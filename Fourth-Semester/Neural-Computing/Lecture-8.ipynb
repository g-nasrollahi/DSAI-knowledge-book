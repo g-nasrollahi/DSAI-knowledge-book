{
 "cells": [
  {
   "cell_type": "markdown",
   "id": "b7742141",
   "metadata": {},
   "source": [
    "* **Benchmark Datasets**\n",
    "  * **MNIST**: 28×28 grayscale images of handwritten digits (60k train, 10k test)\n",
    "  * **CIFAR-10**: 32×32 RGB images, 10 classes, 50k train, 10k test (Dogs, Cats, Cars, etc.)\n",
    "  * **CIFAR-100**: Similar to CIFAR-10 but with 100 classes, 600 images per class.\n",
    "  * **ImageNet**: Large dataset with 1.2 million images, 1000 classes (e.g., animals, objects).\n",
    "* **Naïve Approach**: Fully Connected Network on Flattened Images (N, 1)\n",
    "\n",
    "* **Stride**: How much the filter (kernel) moves at each step (usually 1 pixel).\n",
    "- **Padding**: Padding adds zeros around image edges. Prevents loss of information at borders.\n",
    "* **Output feature map**: Result of applying filter to input.\n",
    "* For multi-channel images (RGB), apply filter to each channel separately and sum results.\n",
    "* Multiple filters learn multiple features simultaneously.\n",
    "* **Pooling**: Reduces size of feature maps, retains important information, and remove noise. (Like kernel but take max or average in a window)\n",
    "  * **Max pooling:** Take max value in window.\n",
    "  * **Average pooling:** Take average value.\n",
    "* For **non-linearity**, use activation functions like ReLU Helps CNNs learn complex patterns.\n",
    "- **CNN Examples:** Famous Architectures\n",
    "  * **LeNet-5 (1989):** First successful CNN, for handwritten digit recognition.\n",
    "  * **AlexNet (2012):** Won ImageNet challenge, popularized deep CNNs.\n",
    "  * **VGG (2014):** Very deep CNNs with simple 3×3 filters.\n",
    "- **Vanishing Gradient Problem**: Deeper CNNs can suffer tiny gradients in early layers. $\\to$ Solution: **Residual Networks (ResNet)** $\\to$ ResNet uses **skip connections** (shortcut paths) to allow gradients to flow directly."
   ]
  }
 ],
 "metadata": {
  "language_info": {
   "name": "python"
  }
 },
 "nbformat": 4,
 "nbformat_minor": 5
}
