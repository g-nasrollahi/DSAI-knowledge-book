{
 "cells": [
  {
   "cell_type": "markdown",
   "id": "88e1c7c9",
   "metadata": {},
   "source": [
    "### Universal Approximation Theorem \n",
    "For any continuous function $f(x)$, there exists a neural network with a single hidden layer that can approximate $f(x)$ to any desired degree of accuracy.\n",
    "\n",
    "### Proof\n",
    "\n",
    "**Step 1:**\n",
    "Make a **step function** using one neuron by setting a very large weight $w$ and bias $b$.\n",
    "Step position: $s = -b/w$.\n",
    "\n",
    "**Step 2:**\n",
    "Use two neurons with step points $s_1$ and $s_2$, and weights $w_1$, $w_2$ on output.\n",
    "Output = $w_1 a_1 + w_2 a_2$ (sum of weighted steps).\n",
    "\n",
    "**Step 3:**\n",
    "Create a **bin function** by setting $w_1 = -w_2 = h$, making one step go up and the other down between $s_1$ and $s_2$.\n",
    "Control bin size, position, and height with $s_1, s_2, h$.\n",
    "\n",
    "**Step 4:**\n",
    "Add many bins (pairs of neurons) to divide the input into multiple parts.\n",
    "Adjust heights and positions to build a histogram that approximates the target function.\n",
    "More bins = better precision.\n",
    "\n",
    "<img src=\"../../Files/fourth-semester/nc/2.png\" width=\"500px\">\n",
    "\n",
    "<img src=\"../../Files/fourth-semester/nc/3.png\" width=\"700px\">\n",
    "\n",
    "- The function for this example is: $B(x) = 0.8 \\cdot \\sigma(400(x - 0.16)) - 0.8 \\cdot \\sigma(400(x - 0.24))$\n",
    "\n",
    "\n",
    "---\n",
    "\n",
    "- **Generative Modeling** = Unsupervised task\n",
    "    - **Autoencoders** = Encoder + Decoder $\\to$ Sub-networks of Autoencoders.\n",
    "        - **Encoder** = Compresses input to a lower-dimensional representation. $\\to$ Make it latent\n",
    "            - Can be any neural network architecture. Like Image(CNN), Time Series(LSTM), tabular(MLP).\n",
    "        - **Decoder** = Reconstruct the data from the latent code.\n",
    "            - Another neural network architecture.\n",
    "        - **Deconvolutional Autoencoders**:\n",
    "            - **Upsampling (interpolation)** Adding new pixels between the original ones by guessing their values.\n",
    "            - **Transposed Convolution**: A convolutional layer using filter (kernel) the opposite way.\n",
    "    - **Loss function** or **reconstruction error**. It measures how close the output image $x'$ is to the input image $x$.\n",
    "        - $\\mathcal{L}_{AE}(\\phi, \\theta) = \\frac{1}{n} \\sum_{i=1}^{n} \\left[ \\mathbf{x}^{(i)} - f_{\\theta}\\left(g_{\\phi}(\\mathbf{x}^{(i)})\\right) \\right]^2$\n",
    "        - $id \\approx f_\\theta \\circ g_\\phi$\n",
    "            - $g_\\phi$ is the **encoder** that compresses the input to a smaller representation $z$,\n",
    "            - $f_\\theta$ is the **decoder** that reconstructs the input from $z$.\n",
    "- **Generative Adversarial Network (GAN)** = Unsupervised task\n",
    "    - **Generator**: Generates new data samples.\n",
    "    - **Discriminator**: Classifies real vs. generated data.\n",
    "    "
   ]
  }
 ],
 "metadata": {
  "language_info": {
   "name": "python"
  }
 },
 "nbformat": 4,
 "nbformat_minor": 5
}
