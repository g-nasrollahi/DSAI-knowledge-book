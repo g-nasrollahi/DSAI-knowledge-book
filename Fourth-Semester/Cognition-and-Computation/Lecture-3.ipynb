{
 "cells": [
  {
   "cell_type": "markdown",
   "metadata": {},
   "source": [
    "## **Dual-process model** of recognition memory\n",
    " - **Familiarity**\n",
    " - **Recollection**\n",
    "\n",
    "| Feature        | Familiarity | Recollection |\n",
    "|---------------|------------|-------------|\n",
    "| Type of Process | Feeling of knowing | Clear memory retrieval |\n",
    "| Strength | Gradual (weak → strong) | All-or-none (yes or no) |\n",
    "| Example | \"This word looks familiar...\" | \"I remember reading this in my psychology class!\" |\n",
    "| Influence on Recognition | Can lead to false positives (thinking you know something when you don’t) | More accurate but less frequent |\n",
    "\n",
    "\n",
    "## **Signal Detection Theory (SDT)**:\n",
    "   - Traditional models assume recognition is based solely on an assessment of **familiarity**.\n",
    "   - Familiarity follows a **Gaussian distribution**: items studied earlier become more familiar, shifting their distribution to the right.\n",
    "   - If recognition relied only on familiarity, receiver-operating characteristics (**ROC**) curves would be **symmetrical** with a slope of 1.\n",
    "\n",
    "<div style=\"display: flex; align-items: center;\"> <img src=\"../../Files/fourth-semester/cc/1.png\" alt=\"Signal Detection Theory Graph\" style=\"max-width: 50%;\"> <p style=\"margin-left: 20px;\"> - The y-axis represents the frequency of items (how often items have a certain level of familiarity).<br> - If an item has a low familiarity score (closer to the left), people classify it as new (\"NO\").<br> - If an item has a high familiarity score (closer to the right), people classify it as old (\"YES\").<br> - Some new items will mistakenly feel familiar (false alarms), and some old items won’t feel familiar enough to be recognized (misses). </p> </div> \n",
    "\n",
    "## **ROC Curves & Experimental Evidence**:\n",
    "   - **ROC analysis** measures recognition memory by comparing **hit rates** (correct recognitions) with **false alarm rates** (incorrect recognitions).\n",
    "   - ROCs are often **asymmetrical** (slopes < 1), which SDT alone cannot explain.\n",
    "   - **Recollection process** explains why slopes decrease when performance improves.\n",
    "\n",
    "<div style=\"display: flex; align-items: center;\"> <img src=\"../../Files/fourth-semester/cc/2.png\" alt=\"ROC Curves\" style=\"max-width: 50%;\"> <p style=\"margin-left: 20px;\"> - Receiver Operating Characteristics (ROC) analyze recognition memory performance by comparing hit rates (correctly recognizing old items) and false alarm rates (incorrectly recognizing new items).<br> - If recognition were only familiarity-based, ROCs would be symmetrical, and in z-transformation, the slope would be 0.<br> - Real-world recognition involves both familiarity & recollection, leading to skewed ROCs with slopes <1, but in z-transformation, a slope closer to 0 shows its importance.<br> - The reason skewed ROCs have a slope <1 is that recollection is an all-or-none process, which reduces the slope of the curve compared to familiarity in conditions of low confidence. </p> </div> \n",
    "\n",
    "## **Dual-Process Model**:\n",
    "   - Recognition involves **familiarity** (a graded strength signal) and **recollection** (all-or-none retrieval).\n",
    "   - Familiarity **alone** results in symmetrical ROCs (slope = 1).\n",
    "   - Recollection **skews** the ROC, reducing the slope to **less than 1**.\n",
    "   - The probability of recognizing an item is:  \n",
    "     $$\n",
    "     P(yes | old) = P(R) + P(F > c) - [P(R) \\times P(F > c)]\n",
    "     $$\n",
    "     where **R** is recollection and **F** is familiarity and **c** is the Decision threshold.\n",
    "\n",
    "---"
   ]
  },
  {
   "cell_type": "markdown",
   "metadata": {
    "vscode": {
     "languageId": "plaintext"
    }
   },
   "source": [
    "### **Two prominent models of recognition memory**  \n",
    "1. **Unequal-Variance Signal-Detection (UVSD) Model**  \n",
    "2. **Dual-Process Signal-Detection (DPSD) Model**  \n",
    "\n",
    "- **UVSD model is more robust** based on experimental evidence.\n",
    "\n",
    "1. **UVSD Model:**\n",
    "   - Recognition is based on a **continuous** memory strength variable.\n",
    "   - Targets (previously seen items) have **greater variability** than lures (new items).\n",
    "   - Supports a **graded** recollection process (not all-or-none).\n",
    "\n",
    "   - Recognition is based on a **continuous** scale of memory strength, meaning items are judged based on how strongly they feel familiar.\n",
    "   - **Targets** (old items) are more **strength** than **lures** (new items) because some older and more remembered memories are stronger than others.\n",
    "   - This model suggests that recollection is not all-or-none, but rather a **gradual** process—some memories feel stronger and clearer than others.\n",
    "\n",
    "2. **DPSD Model:**\n",
    "   - Recollection occurs **all-or-none** (either a memory is retrieved or it is not).\n",
    "   - Familiarity is modeled as a **continuous** process using signal detection.\n",
    "   - Used in neuroscience studies to estimate separate contributions of recollection and familiarity.\n",
    "\n",
    "![UVSD vs DPSD](../../Files/fourth-semester/cc/3.png)\n",
    "\n",
    "- Figure A assumes all memories have similar variability, making recognition a simple familiarity-based decision.\n",
    "- Figure B (UVSD model) better reflects real-world memory, where some old items are remembered strongly and others weakly, leading to greater variability in targets compared to lures.\n",
    "\n",
    "<br>\n",
    "\n",
    "- The **(ROC) curves** fit better with **curvilinear** predictions of UVSD than the **linear** predictions of DPSD.\n",
    "- **Z-transformed ROCs (z-ROCs)** are mostly linear, as predicted by UVSD, contradicting the expected curvature from DPSD.\n",
    "- Studies suggest that **recollection is not all-or-none** but instead occurs in degrees.\n",
    "- Findings suggest that recognition memory is best understood as a **continuous** process rather than a mix of discrete processes."
   ]
  },
  {
   "cell_type": "markdown",
   "metadata": {
    "vscode": {
     "languageId": "plaintext"
    }
   },
   "source": [
    "![](../../Files/fourth-semester/cc/4.png)\n",
    "\n",
    "| **Figure** | **Description** |\n",
    "|-----------|---------------|\n",
    "| **(A) Probability ROC – High-Threshold Theory** | - The **ROC curve** is less curved and closer to the diagonal, meaning recognition is modeled as a **yes/no** decision (all-or-none memory).<br>- This suggests that only some items are remembered, while others are completely guessed. |\n",
    "| **(B) z-ROC – High-Threshold Theory** | - When transformed into **z-space**, the curve is concave (bowed upwards), which indicates **inconsistencies** with a simple threshold model.<br>- This suggests that memory does not work as a strict all-or-none process. |\n",
    "| **(C) Probability ROC – Signal Detection Theory (SDT)** | - The curve is more **smoothly curved** rather than a straight line, indicating that memory strength is a **continuous** process rather than all-or-none.<br>- Recognition is based on a graded sense of familiarity rather than a strict threshold. |\n",
    "| **(D) z-ROC – Signal Detection Theory (SDT)** | - When transformed into **z-space**, the curve is nearly **a straight line**, supporting the SDT assumption that recognition follows a **Gaussian distribution** of memory strength. |\n",
    "\n",
    "\n",
    "- **(A & B) High-Threshold Theory** assumes all-or-none memory, but its z-ROC shows inconsistencies.  \n",
    "- **(C & D)Signal Detection Theory** explains recognition better because it assumes **graded memory strength**, producing a more linear z-ROC.  "
   ]
  }
 ],
 "metadata": {
  "language_info": {
   "name": "python"
  }
 },
 "nbformat": 4,
 "nbformat_minor": 2
}
