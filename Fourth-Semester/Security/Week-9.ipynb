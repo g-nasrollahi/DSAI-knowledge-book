{
 "cells": [
  {
   "cell_type": "markdown",
   "id": "9bcae7bb",
   "metadata": {},
   "source": [
    "- **Diffie-Hellman Key Exchange (DH)**: A way for two parties (Alice & Bob) to agree on a secret symmetric key over a public channel by modular math. Two random secret numbers are chosen, and public values are exchanged after combination on public network and later swich and compute the shared key using modular exponentiation.\n",
    "  - **Man-in-the-middle attack (MITM)** can happen if attacker pretends to be Alice or Bob.\n",
    "    - **Solution**: Use **digital signatures** for mutual authentication to prevent MITM.\n",
    "- **Digital Signatures**: A way to verify the authenticity and integrity of a message. It uses a private key to sign a hash of the message, which can be verified with the sender's public key.\n",
    "- Elliptic Curve Cryptography (ECC): A type of public-key cryptography that uses the mathematics of elliptic curves to provide security with smaller key sizes compared to traditional methods like RSA.\n",
    "- **ElGamal Encryption**: A public-key encryption scheme based on the Diffie-Hellman problem, which allows secure message encryption and decryption using a private key.\n",
    "- **Public-Key Infrastructure (PKI)**: A system that uses digital certificates by trusted thurd-party (Certificate Authority or CA) to establish a chain of trust for public keys, ensuring secure communication over networks.\n",
    "- **TLS (Transport Layer Security)**: A protocol for HTTPS uses PKI and digital certificates that provides secure communication over a computer network, ensuring privacy, integrity, and authentication through the use of public-key cryptography and symmetric encryption.\n",
    "  - **TLS session key establishment**: Client and server exchange random numbers (nonces) and keys securely, generate shared secret keys, verify the connection, and then communicate safely.\n",
    "    - K0: Pre-master key (temporary secret)\n",
    "    - K1: Master secret key (created from K0 and nonces)\n",
    "    - key: Session key (used to encrypt messages)\n",
    "    - MAC: A code to check message integrity and authenticity\n",
    "  - **Double Hashing**: A technique used in TLS to ensure the integrity of the handshake process by hashing the handshake messages twice to prevent tampering.\n",
    "  - **Why both A/Symmetric**: TLS uses asymmetric encryption to safely share a secret key between client and server. Then, it uses symmetric encryption with that key to quickly and securely encrypt the actual data. This way, TLS is both safe and fast.\n",
    "\n",
    "- **RSA Algorithm**: A widely used public-key cryptosystem that relies on the difficulty of factoring large integers. It is used for secure data transmission and digital signatures.\n",
    "  - **RSA Padding**: Padding adds randomness to the message before encryption, preventing the same plaintext from producing the same ciphertext when encrypted multiple times.\n",
    "  - **Homomorphism in RSA** RSA encryption allows **multiplication on ciphertexts**, resulting in multiplication of plaintexts after decryption. This “malleability” can be a risk for attacks but also useful in secure computation.\n",
    "\n",
    "### Advantages and Disadvantages of Public-Key Cryptography\n",
    "\n",
    "| Advantages                       | Disadvantages                      |\n",
    "| -------------------------------- | ---------------------------------- |\n",
    "| No need to share keys in advance | Slower than symmetric cryptography |\n",
    "| Supports digital signatures      | Larger ciphertext size             |\n",
    "| Provides non-repudiation         | Requires more computation          |\n",
    "\n",
    "---\n",
    "\n",
    "### Digital Signature vs Public-Key Encryption\n",
    "\n",
    "| Digital Signature                         | Public-Key Encryption      |\n",
    "| ----------------------------------------- | -------------------------- |\n",
    "| Use private key to sign                   | Use public key to encrypt  |\n",
    "| Use public key to verify signature        | Use private key to decrypt |\n",
    "| Proves sender identity and data integrity | Ensures confidentiality    |\n",
    "\n",
    "---\n",
    "\n",
    "| Concept                     | Purpose                                  |\n",
    "| --------------------------- | ---------------------------------------- |\n",
    "| Symmetric Cryptography      | Fast encryption using one key            |\n",
    "| Asymmetric Cryptography     | Secure key exchange & digital signatures |\n",
    "| Diffie-Hellman Key Exchange | Share symmetric keys securely            |\n",
    "| Digital Signature           | Authenticate sender & data               |\n",
    "| PKI                         | Trust in public keys                     |\n",
    "| TLS                         | Secure internet communication            |\n",
    "| RSA                         | Popular public-key encryption            |\n"
   ]
  },
  {
   "cell_type": "markdown",
   "id": "1346282b",
   "metadata": {
    "vscode": {
     "languageId": "plaintext"
    }
   },
   "source": [
    "### RSA Exercise\n",
    "\n",
    "![](../../Files/fourth-semester/sec/7.png)\n",
    "\n",
    "![](../../Files/fourth-semester/sec/8.png)"
   ]
  }
 ],
 "metadata": {
  "language_info": {
   "name": "python"
  }
 },
 "nbformat": 4,
 "nbformat_minor": 5
}
