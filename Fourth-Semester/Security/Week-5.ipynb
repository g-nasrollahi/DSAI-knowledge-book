{
 "cells": [
  {
   "cell_type": "markdown",
   "id": "53bce22e",
   "metadata": {
    "vscode": {
     "languageId": "plaintext"
    }
   },
   "source": [
    "- Data travels through many **hops** (e.g., your PC → home router → university router → server).\n",
    "- **Spoofing** $\\to$ Data can be modified\n",
    "- **Lack of confidentiality** $\\to$ Data can be read\n",
    "- **Lack of authenticity** $\\to$ Fake data can be sent\n",
    "- **Firewall** : Controls data entering or leaving a networkin boundary (like a router/devide)\n",
    "- **Packet-filtering Firewalls** (Common): Apply **rules** to packets, actions can be: ACCEPT, REJECT, or DROP packets\n",
    "  - **Stateless:** Checks packets individually, no memory of past packets.\n",
    "  - **Stateful:** Keeps track of connections, more secure.\n",
    "  - **Disadvantages:**\n",
    "    - Cannot block all attacks.\n",
    "    - Can be tricked by hiding traffic in allowed ports.\n",
    "    - Complex rule sets can be hard to manage.\n",
    "    - Only works if traffic passes through firewall (mobile data bypasses it).\n",
    "- **Proxy Firewalls** (Application - Layer 7):\n",
    "  - Acts as an intermediary between client and server which can filter traffic more intelligently than packet-filtering firewalls.\n",
    "  - Can be **explicit** (client knows about proxy) or **transparent** (client doesn’t know).\n",
    "  - Can require authentication.\n",
    "  - **Advantages:**\n",
    "    - Logs all activity (good for accountability).\n",
    "    - Can cache content to reduce bandwidth.\n",
    "    - Filters traffic more intelligently.\n",
    "  - **Disadvantages:**\n",
    "    - Complex to set up and maintain.\n",
    "    - Can slow down performance.\n",
    "    - Must trust proxy with sensitive data (proxy sees all traffic).\n",
    "- **Tiered Architecture**: Combining different firewalls (packet-filtering + proxy) for better protection between internet and internal network.\n",
    "\n",
    "---"
   ]
  },
  {
   "cell_type": "markdown",
   "id": "b68adaf2",
   "metadata": {},
   "source": [
    "- **Intrusion Detection Systems (IDS)**:  monitor network or system events to detect unauthorized activity.\n",
    "  - **Base Rate Fallacy in IDS**:\n",
    "    - Produce many false alarms.\n",
    "    - Increasing sensitivity $\\to$ reduces missed attacks but $\\to$ increases false positives.\n",
    "    - Decision on sensitivity depends on **threat model** and **risk tolerance**.\n",
    "  - **NIDS (Network-based IDS):** Listens to network traffic at key points like routers or switches. Example tools: Snort, Suricata.\n",
    "  - **HIDS (Host-based IDS):** Monitors activities on a specific device (logs, files, system calls). Example tool: OSSEC.\n",
    "- **Intrusion Prevention Systems (IPS)** can also take action to stop attacks (e.g., block traffic).\n",
    "- **Event Analysis Methods**\n",
    "  - **Signature-based Detection**:\n",
    "    - Uses known patterns (signatures) of attacks to identify malicious activity.\n",
    "    - Fast and accurate if signatures are updated.\n",
    "    - Can miss new or unknown attacks.\n",
    "    - Example: Detects ping scans (nmap) by looking for empty ICMP packets.\n",
    "  - **Anomaly-based Detection**:\n",
    "    - Learns normal behavior and alerts on deviations.\n",
    "    - Can detect new attacks.\n",
    "    - Hard to configure and can cause false alarms.\n",
    "    - Requires good training data.\n",
    "\n",
    "---\n"
   ]
  },
  {
   "cell_type": "markdown",
   "id": "3cae470f",
   "metadata": {
    "vscode": {
     "languageId": "plaintext"
    }
   },
   "source": [
    "- **Tunneling**: Encapsulate your packets inside another secure tunnel through a trusted middleman.\n",
    "  - **Proxy:** Tunnels for specific applications.\n",
    "  - **VPN:** Tunnels all network traffic.\n",
    "- **TOR** (Onion Routing)\n",
    "  - Multi-layer tunneling (tunnels inside tunnels).\n",
    "  - Each relay removes one encryption layer, no single node knows the full path.\n",
    "  - Provides strong anonymity but slower."
   ]
  }
 ],
 "metadata": {
  "language_info": {
   "name": "python"
  }
 },
 "nbformat": 4,
 "nbformat_minor": 5
}
