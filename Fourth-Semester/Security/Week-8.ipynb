{
 "cells": [
  {
   "cell_type": "markdown",
   "id": "16cad894",
   "metadata": {},
   "source": [
    "- **Cryptography:** Confidentiality, Authentication, Non-repudiation (Sender cannot deny they sent it)\n",
    "  - **Symmetric-Key Cryptography**: one shared secret key, faster than public-key but harder to share keys securely.\n",
    "  - **Classical Cryptosystems** (Old-school ciphers)\n",
    "    - **Caesar Cipher:** Shift letters by 3 places.\n",
    "    - **Vigenère Cipher:** Uses keyword to shift letters differently per position.\n",
    "    - **Transposition Cipher:** Rearranges letters without changing them in zigzag pattern.\n",
    "  - **The Three Big Ideas**\n",
    "    - **Confusion:** Hide plaintext-ciphertext link.\n",
    "    - **Diffusion:** Spread influence of plaintext bits over ciphertext bits.\n",
    "    - **Kerckhoffs’s Principle:** Keep algorithm public, key secret.\n",
    "  - **Symmetric Encryption Algorithms**\n",
    "    - **Stream Ciphers:** Encrypt bit-by-bit (e.g., One-Time Pad: Pass bits through XOR with key).\n",
    "      - Key must be as long as message, truly random, never reused.\n",
    "    - **Block Ciphers:** Encrypt fixed-size blocks (e.g., AES)\n",
    "      - **Advanced Encryption Standard (AES):** Block size 128 bits, key sizes 128, 192, or 256 bits.\n",
    "      - **Block Cipher Modes of Operation** (Encrypted):\n",
    "        - **ECB (Electronic Codebook):** Encrypts each block independently.\n",
    "          - Same plaintext blocks → same ciphertext blocks (reveals patterns).\n",
    "        - **CBC (Cipher Block Chaining):** Each block XORed with previous ciphertext block before encryption, uses IV (Initialization Vector) for first block.\n",
    "          - Errors in one block affect that block and the next.\n",
    "        - **CFB (Cipher Feedback):** Turns block cipher into stream cipher, encrypts small parts (like bytes), self-synchronizing.\n",
    "        - **OFB (Output Feedback):** Similar to CFB but errors do not propagate.\n",
    "        - **CTR (Counter Mode):** Uses counter + key to generate key stream, allows parallel processing, errors affect only corresponding block.\n",
    "  - **Common Hashes**:\n",
    "    - MD5 (128 bits) — outdated, not collision resistant.\n",
    "    - SHA-1 (160 bits) — weakened, collisions found.\n",
    "    - SHA-256, SHA-384, SHA-512 — strong and widely used.\n",
    "  - **Message Authentication Codes (MAC):** Small piece of data added to message to verify it wasn't changed with a secret key. **Types include:**\n",
    "    - **CBC-MAC:** Uses block cipher (like DES) in CBC mode, outputs last block as MAC. -\n",
    "    - **HMAC:** Combines secret key with hash function (like SHA-256). More secure and widely used.\n",
    "\n",
    "---\n",
    "\n",
    "#### Advantages & Challenges of Symmetric Crypto\n",
    "\n",
    "| Advantages                                  | Challenges                                          |\n",
    "| ------------------------------------------- | --------------------------------------------------- |\n",
    "| Fast encryption and decryption              | Hard to distribute and manage keys                  |\n",
    "| Efficient for hardware and software         | Number of keys grows quickly with users             |\n",
    "| Provides confidentiality and some integrity | No support for digital signatures (non-repudiation) |\n",
    "\n",
    "---\n",
    "| Concept       | Example                                                  |\n",
    "| ------------- | -------------------------------------------------------- |\n",
    "| Caesar Cipher | Shift \"HELLO\" by 3 → \"KHOOR\"                             |\n",
    "| One-Time Pad  | Plaintext 0101 XOR key 1010 → ciphertext 1111            |\n",
    "| CBC Mode      | Plaintext blocks chained with IV and previous ciphertext |\n",
    "| Hash function | SHA-256(\"hello\") → fixed hash string                     |\n",
    "| HMAC          | Hash + secret key for message authentication             |"
   ]
  }
 ],
 "metadata": {
  "language_info": {
   "name": "python"
  }
 },
 "nbformat": 4,
 "nbformat_minor": 5
}
