{
 "cells": [
  {
   "cell_type": "markdown",
   "id": "1b177ab5",
   "metadata": {},
   "source": [
    "#### Defenses in Application Security\n",
    "\n",
    "- **Language-Based Safety**\n",
    "    - **Spatial safety:** No out-of-bounds access (don't read/write outside allocated buffers).\n",
    "    - **Temporal safety:** No use-after-free or use of uninitialized pointers (don't use memory that’s been freed).\n",
    "    - **Dangling pointers:** Point to freed or invalid memory → dangerous.\n",
    "    - **Type safety:** Operations on data must match their type (e.g., treating an integer as a pointer is unsafe).\n",
    "- **Preventive Measures**\n",
    "    - **Non-Executable Memory**\n",
    "        - Mark memory areas (like stack/heap) as non-executable to prevent running injected code.\n",
    "        - Prevents running injected malicious code.\n",
    "    - **Address Space Layout Randomization (ASLR)**\n",
    "        - Randomly rearranges memory locations of key program areas (like stack, heap, libraries).\n",
    "- **Detective Measures**\n",
    "  - **Stack Canaries**\n",
    "    - Special values placed before return addresses on the stack to detect buffer overflows.\n",
    "    - If a buffer overflow overwrites this value, the program detects it and aborts.\n",
    "    - Types:\n",
    "      - Terminator canaries (special chars)\n",
    "      - Random canaries (random secret values)\n",
    "      - XOR canaries (random canaries XORed with return address)\n",
    "  - **Control Flow Integrity (CFI)**\n",
    "    - Program’s control flow (which functions jump where) is checked against expected paths and stops if unexpected jumps occur.\n",
    "    - A Control Flow Graph (CFG) is built during compile time.\n",
    "    - **Can stop:**\n",
    "      - Code injection attacks (like buffer overflows that redirect execution)\n",
    "      - Redirecting control flow to malicious code (like return-to-libc attacks)\n",
    "    - **Cannot stop:**\n",
    "      - Attacks that follow allowed paths but misuse them (mimicry attacks)\n",
    "      - Data corruption or data leaks (like Heartbleed)\n",
    "      - Control flow changes based on bad data (CFI only checks function jumps, not data flow)\n",
    "    - **In-line Reference Monitor (IRM):** This is extra code added to check if the next jump is allowed by looking at labels attached to possible jump targets.\n",
    "\n",
    "| Attack Type                 | What it Does                      | Defense/Prevention               |\n",
    "| --------------------------- | --------------------------------- | -------------------------------- |\n",
    "| Buffer Overflow             | Overwrites memory                 | Bounds checks, stack canaries    |\n",
    "| Heap Overflow               | Overflow in heap memory           | Bounds checks, safe memory alloc |\n",
    "| Format String Vulnerability | Manipulates format specifiers     | Use format strings properly      |\n",
    "| Integer Overflow            | Wrap-around number errors         | Check integer sizes              |\n",
    "| TOCTOU Race Condition       | Time gap exploitation in file use | Atomic operations, safer code    |\n",
    "| Return-to-libc              | Jump to existing code             | ASLR                             |\n",
    "| Code Injection              | Inject malicious code             | Non-executable memory            |\n",
    "| Control Flow Hijack         | Jump to unexpected code           | CFI                              |"
   ]
  }
 ],
 "metadata": {
  "language_info": {
   "name": "python"
  }
 },
 "nbformat": 4,
 "nbformat_minor": 5
}
