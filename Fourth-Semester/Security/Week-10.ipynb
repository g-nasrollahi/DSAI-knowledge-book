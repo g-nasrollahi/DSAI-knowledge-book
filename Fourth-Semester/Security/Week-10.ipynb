{
 "cells": [
  {
   "cell_type": "markdown",
   "id": "566cc7a9",
   "metadata": {},
   "source": [
    "- **DBMS Properties (ACID)**\n",
    "  - **Atomicity:** Transaction is all or nothing.\n",
    "  - **Consistency:** Database stays valid.\n",
    "  - **Isolation:** Transactions don’t interfere with each other.\n",
    "  - **Durability:** Once done, changes stay even if system crashes.\n",
    "- **SQL Injection Countermeasures**\n",
    "  - **Input Validation**: Always check if input is safe.\n",
    "  - **Sanitization**:\n",
    "    - **Blacklisting:** Remove dangerous characters like `'`, `;`, `--`.\n",
    "    - **Escaping:** Replace dangerous characters with safe ones, e.g., `'` → `\\'`.\n",
    "  - **Whitelisting:** Only allow known good input formats.\n",
    "  - **Prepared Statements:** Use parameterized queries so inputs are never treated as code.\n",
    "\n",
    "### Server-side attacks\n",
    "\n",
    "\n",
    "- **HTTP** is **Stateless** (Without memory) $\\neq$ Stateful \n",
    "  - **Hidden Values**(visible, changable): `<form><input type=\"hidden\" name=\"**session_id**\" value=\"123456789\"></form>`\n",
    "  - **Capabilities** (Unpredictable tokens): random tokens sent through URLs or headers.\n",
    "  - **Cookies:** Key-value pairs stored by the browser and sent automatically on each request.\n",
    "    - **Session Hijacking:** If attacker steals a cookie, they can impersonate the user.\n",
    "      - Using tools like Firesheep, attackers can steal cookies on insecure Wi-Fi.\n",
    "    - **Server-Side Defenses for Cookies:**\n",
    "      - Make cookies expire quickly.\n",
    "      - Invalidate cookies when user logs out.\n",
    "      - Use different cookies for each session.\n",
    "      - Check patterns to detect suspicious behavior.\n",
    "    - **Cross-Site Request Forgery (CSRF)**: An attack tricking a logged-in user to perform unwanted actions.\n",
    "      - **Protections:**\n",
    "        - **Referer Check:** Server checks where the request came from.\n",
    "        - **Secret Tokens:** Add a secret random token to each form or request that attackers cannot guess.\n",
    "        - **SameSite Cookie Attribute:** Controls if cookies are sent on cross-site requests.\n",
    "          - `Strict` = Cookies only sent to same-site requests. (most secure)\n",
    "          - `Lax` = Cookies sent on top-level navigation (clicking) but not on sub-requests (like images or frames).\n",
    "          - `None` = Cookies sent always (least secure).\n",
    "\n",
    "### Client-Side Attacks\n",
    "\n",
    "- **Same origin policy (SOP)**: Browsers restrict scripts to only access data from the same origin (domain, protocol, port).\n",
    "example:\n",
    "- **Cross-site Scripting (XSS)**: Attackers inject malicious scripts into trusted websites, can steal cookies, hijack sessions, or perform other harmful actions.\n",
    "  - **Persistent XSS:** Code stored on the server (e.g., comments).\n",
    "  - **Reflected XSS:** Code in URL or form input, reflected immediately in the page response."
   ]
  }
 ],
 "metadata": {
  "language_info": {
   "name": "python"
  }
 },
 "nbformat": 4,
 "nbformat_minor": 5
}
