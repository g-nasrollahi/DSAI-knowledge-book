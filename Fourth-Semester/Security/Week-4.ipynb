{
 "cells": [
  {
   "cell_type": "markdown",
   "id": "9d10bb5b",
   "metadata": {
    "vscode": {
     "languageId": "plaintext"
    }
   },
   "source": [
    "- **OSI Model** has **7 layers** (from top to bottom):\n",
    "  - **1) Application** (user interface, e.g. browsers, email)\n",
    "    - HTTP (web pages)\n",
    "    - SMTP (email)\n",
    "    - DNS (domain name system)\n",
    "  - **2) Presentation**: Handles how data is formatted or encrypted so both ends understand each other.\n",
    "    - Telnet (remote terminal)\n",
    "    - FTP\n",
    "  - **3) Session**: Manages and controls connections between apps (starting, maintaining, ending sessions).\n",
    "  - **4) Transport** Responsible for sending data between hosts reliably or unreliably.\n",
    "    - TCP: Makes a connection before sending ordered data, slower but reliable, use 3 hand shakes(e.g. web pages, emails)\n",
    "    - UDP: Sends data without establishing a connection and recieve check, Faster but less reliable (e.g. video streaming, online gaming)\n",
    "  - **5) Network** Deals with routing and logical addressing (IP addresses).\n",
    "    - **Addressing** (IP of destination used until reached)\n",
    "    - **Fragmentation** (breaking large packets into smaller ones for transmission)\n",
    "    \n",
    "  - **6) Data Link** Makes sure data frames are error-free and handles hardware addresses (MAC).\n",
    "    - Logical Link Control (LLC): Manages connections between two peers, providing error and flow control\n",
    "    - Media Access Control (MAC): Transmits/Receives frames. Logical topologies and HW addresses are defined here.\n",
    "  - **7) Physical**: Physical signals, cables, and bits transmitted.\n",
    "\n",
    "- **TCP/IP** model is similar but with fewer layers:\n",
    "\n",
    "  * Application (In OSI: Application, Presentation, Session)\n",
    "    - HTTP, FTP, SMTP, DNS (domain name system)\n",
    "  * Transport (In OSI: Transport)\n",
    "    - TCP (reliable), UDP (unreliable)\n",
    "  * Internet (In OSI: Network)\n",
    "    - IP (Internet Protocol), ICMP (error messages)\n",
    "  * Network access (In OSI: Data Link, Physical)\n",
    "    - Ethernet, Wi-Fi, etc."
   ]
  },
  {
   "cell_type": "markdown",
   "id": "0fafdd16",
   "metadata": {},
   "source": [
    "---\n",
    "\n",
    "- **HTTP Proxying**: A way to send web requests through another server.\n",
    "  - **Anonymizing proxies:** These hide who you really are when you browse the web.\n",
    "    - Example:* A company uses this so competitors can’t see what websites they visit.\n",
    "  - **Open proxy servers:** These let anyone use them to send web requests without restrictions. (Attackers -> hide their identity.)\n",
    "  - **Content filtering:** Block websites that are not allowed (like social media at work).\n",
    "\n",
    "- **HTTP Tunneling**:\n",
    "  - Used to **get around firewalls or restrictions** but not to break security. It wraps (or hides) the real data inside regular web traffic (HTTP), so firewalls don’t block it.\n",
    "    - If a firewall blocks a video app, HTTP tunneling can let the app work by sending its data inside normal web requests.\n",
    "\n",
    "- **IPSec**: Used to secure communication over IP networks (VPNs), provides **authentication** and **encryption**.\n",
    "  - Key Parts:\n",
    "    - **AH (Authentication Header)**: Checks the data wasn’t changed and confirms the sender’s identity, sends a special code (hash) before each packet to prove it’s real.\n",
    "    - **ESP (Encapsulating Security Payload)**: Encrypts the data so only the receiver can read it and check data didn't got changed\n",
    "    - **Security Associations (SAs)**: Contract between two devices on using AH or ESPand encryption and authentication methods.\n",
    "  - **Modes**:\n",
    "    - **Transport Mode**: Only payload is encrypted, used for end-to-end communication.\n",
    "    - **Tunnel Mode**: Encrypts the entire packet, creating a new IP header, used for VPNs.\n",
    "- **IKE (Internet Key Exchange)**: Used to set up secure connections and manage keys for IPSec.\n",
    "  - **Phases**:\n",
    "    - **Phase 1**: Establishes a secure channel between two devices.\n",
    "    - **Phase 2**: Using that tunnel, they set up the real security rules (SAs) to protect the data communication.\n",
    "\n",
    "---"
   ]
  },
  {
   "cell_type": "markdown",
   "id": "cbfc1ee7",
   "metadata": {
    "vscode": {
     "languageId": "plaintext"
    }
   },
   "source": [
    "- **Network Attacks**\n",
    "    - **Scanning Techniques**\n",
    "        - **Port Scanning:** Checks open ports to find vulnerabilities by TCP handshakes.\n",
    "        - **FIN**: Sends TCP packet to close a connection without completing the handshake, used to find open ports.\n",
    "        - **NULL Scan**: Sends packets with no flags set, used to identify open ports.\n",
    "        - **XMAS Scan**: Sends packets with FIN, URG, and PSH flags set, used to identify open ports.\n",
    "- **IP Fragmentation Attacks**\n",
    "    - **Teardrop Attack:** Sends overlapping fragments causing crashes.\n",
    "    - **Overlapping Fragment Attack:** Bypasses firewall by sending harmful fragments after harmless ones.\n",
    "    - **Source Routing Exploitation:** Attacker controls packet route to access internal networks.\n",
    "    - **Smurf Attack:** Attacker spoofs victim IP, sends broadcast ping; victim overwhelmed by replies.\n",
    "- **Denial of Service**\n",
    "    - **DoS** , **DDoS (Distributed Denial of Service)**\n",
    "    - **SYN Flood:** In DDoS, sends many fake connection requests to exhaust server resources, preventing legitimate connections.\n",
    "Here’s your completed notes based on the lecture content and simple explanations:\n",
    "- **Spoofing**\n",
    "    - **IP Address Spoofing:** The attacker sends packets with fake (bogus) source IP addresses.\n",
    "        - In a **SYN flood attack**, the attacker sends many connection requests (SYN packets) with fake IPs. The victim replies with SYN+ACK packets but never gets the final ACK, leaving many half-open connections. This overloads the victim’s system and blocks real users.\n",
    "    - **Email Spoofing:** Typo of phishing where attacker sends fake emails by changing sender'd address by telnet on mail servers (port 25)\n",
    "- **DNS Attacks**\n",
    "    - **DNS Spoofing / DNS Poisoning:** Attackers inject fake DNS records into a DNS server’s cache.\n",
    "        - **DNSSEC** helps by adding authentication to DNS responses but isn’t widely used yet.\n",
    "    - **Pharming:**  Redirecting users to fake websites by:\n",
    "        - Changing the **hosts file** on a user’s computer.\n",
    "        - Hacking or compromising the DNS server itself."
   ]
  }
 ],
 "metadata": {
  "language_info": {
   "name": "python"
  }
 },
 "nbformat": 4,
 "nbformat_minor": 5
}
