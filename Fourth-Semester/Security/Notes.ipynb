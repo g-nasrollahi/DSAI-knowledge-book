{
 "cells": [
  {
   "cell_type": "markdown",
   "metadata": {
    "vscode": {
     "languageId": "plaintext"
    }
   },
   "source": [
    "### Privilege escalation\n",
    "When someone gains higher access or permissions on a system than they are supposed to have. It often happens by exploiting weaknesses or vulnerabilities in programs, allowing the attacker to perform actions they wouldn't normally be able to do, like accessing sensitive information or controlling the system."
   ]
  },
  {
   "cell_type": "markdown",
   "metadata": {
    "vscode": {
     "languageId": "plaintext"
    }
   },
   "source": [
    "---\n",
    "```bash\n",
    "chmod 600 assignment2/students85.key\n",
    "```\n",
    "\n",
    "It sets **file permissions** for `students85.key` to:  \n",
    "- **6 (rw-)** for the owner (read and write)  \n",
    "- **0 (---)** for group and others (no permissions)  \n",
    "\n",
    "We run `chmod 600` to protect sensitive files (like private keys).  \n",
    "\n",
    "It makes sure only **you (the owner)** can read or edit the file, and **no one else** can access it.  \n",
    "\n",
    "This prevents security risks like others reading or stealing the key.\n",
    "\n",
    "---\n"
   ]
  },
  {
   "cell_type": "markdown",
   "metadata": {},
   "source": [
    "### SSH connection for first time\n",
    "```bash\n",
    "Are you sure you want to continue connecting (yes/no/[fingerprint])?     \n",
    "```\n",
    "\n",
    "What happens if you say \"yes\"?\n",
    "\n",
    "- SSH adds the server's fingerprint to your known_hosts.\n",
    "- The connection continues.\n",
    "- You are basically telling SSH that you trust the server and want to connect to it.\n",
    "\n"
   ]
  },
  {
   "cell_type": "code",
   "execution_count": null,
   "metadata": {},
   "outputs": [],
   "source": []
  }
 ],
 "metadata": {
  "kernelspec": {
   "display_name": "base",
   "language": "python",
   "name": "python3"
  },
  "language_info": {
   "name": "python",
   "version": "3.12.2"
  }
 },
 "nbformat": 4,
 "nbformat_minor": 2
}
