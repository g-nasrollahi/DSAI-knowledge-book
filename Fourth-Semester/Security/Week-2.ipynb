{
 "cells": [
  {
   "cell_type": "markdown",
   "id": "51b4b78f",
   "metadata": {},
   "source": [
    "## Standards and Frameworks\n",
    "\n",
    "- **ISO/IEC 27000 series:** Info security management standards.\n",
    "- **ISO 31000:** Risk management Process.\n",
    " - Identify vulnerabilities and threats $\\to$ select tools, techniques $\\to$ assess risk $\\to$ decide strategies $\\to$ consider countermeasures.\n",
    "- **NIST 800-30:** Guide for risk assessments.\n",
    "- **NIST 800-53:** Security and privacy controls.\n",
    "- **ISACA COBIT:** IT systems management framework.\n",
    "\n",
    "---\n",
    "\n",
    "## Principles and Best Practices\n",
    "\n",
    "### Design Principles\n",
    "\n",
    "- **Separation of Duties (SoD):** Avoid conflicts by dividing tasks among different people (e.g., one person creates users, another approves).\n",
    "- **Least Privilege:** Give users only the access they need, no more.\n",
    "\n",
    "## Risk Management Methods\n",
    "\n",
    "- **Tabular methods:** Popular in industry (tables showing risks and controls).\n",
    "- **Graphical methods:** More academic (diagrams, charts).\n",
    "\n",
    "---\n",
    "\n",
    "## Threat Modeling: STRIDE Framework\n",
    "\n",
    "| Threat                      | Concern                      | Countermeasures                                          |\n",
    "| --------------------------- | ---------------------------- | -------------------------------------------------------- |\n",
    "| **Spoofing**                | Can you trust the identity?  | Authentication, session management, digital certificates |\n",
    "| **Tampering**               | Can data be changed?         | Digital signatures, access control, auditing             |\n",
    "| **Repudiation**             | Can actions be denied?       | Logging, auditing, digital signatures                    |\n",
    "| **Information Disclosure**  | Risk of data theft?          | Access control, encryption                               |\n",
    "| **Denial of Service (DoS)** | Prevent service access?      | Rate limiting, boundary protection, redundancy           |\n",
    "| **Elevation of Privilege**  | Unauthorized privilege gain? | Authorization, least privilege, input validation         |\n",
    "\n",
    "## STRIDE Threat Modeling Steps\n",
    "\n",
    "1. Define key assets and security needs.\n",
    "2. Create data flow diagrams (DFDs).\n",
    "3. Draw trust boundaries (zones with different trust levels).\n",
    "4. Identify threats crossing these boundaries.\n",
    "5. Plan controls to mitigate threats.\n",
    "6. Validate controls work."
   ]
  }
 ],
 "metadata": {
  "language_info": {
   "name": "python"
  }
 },
 "nbformat": 4,
 "nbformat_minor": 5
}
