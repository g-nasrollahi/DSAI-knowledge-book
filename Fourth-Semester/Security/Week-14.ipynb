{
 "cells": [
  {
   "cell_type": "markdown",
   "id": "f8bb3015",
   "metadata": {},
   "source": [
    "- **chroot** for **sandboxing** changes the app’s \"root folder\" so it thinks it’s the only thing on the device.\n",
    "- Modern systems use **containers** (Linux namespaces) for **sandboxing** to isolate apps.\n",
    "- **Mobile Programming Paradigm**\n",
    "    - **Event-driven:** Apps respond to things like taps, messages, or network events.\n",
    "    - **Low resources:** Apps can be paused or killed anytime by the system to save battery or memory.\n",
    "- **Android App Components**\n",
    "    - **Activity:** a single screen with UI\n",
    "    - **Service:** background job\n",
    "    - **Content provider:** manages app data like databases or files\n",
    "    - **Broadcast receiver:** listens for system or app messages/events\n",
    "    - **Manifest:** an XML file describing app parts and permissions\n",
    "- **Malware spread on mobile methods:**\n",
    "  - **Repackaging:** legitimate app is modified with malware added.\n",
    "  - **Fake apps:** pretend to be real apps but are malware.\n",
    "  - **Update attacks:** app downloads malware after installation.\n",
    "  - **Malicious websites:** trick users to download malware.\n",
    "  - **Exploiting vulnerabilities:** gaining root access or spying without user knowledge.\n",
    "- **Malware functions (payloads):**\n",
    "  - **Rooting:** gaining full control of the device.\n",
    "  - **Premium SMS/calls**\n",
    "  - **Data theft**\n",
    "  - **Botnets:** using the phone as part of a network for attacks.\n",
    "  - **Cryptojacking** \n",
    "  - **Ransomware:** locking the phone and demanding money to unlock it.\n",
    "\n"
   ]
  }
 ],
 "metadata": {
  "language_info": {
   "name": "python"
  }
 },
 "nbformat": 4,
 "nbformat_minor": 5
}
