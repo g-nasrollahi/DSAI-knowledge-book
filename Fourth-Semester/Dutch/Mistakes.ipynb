{
 "cells": [
  {
   "cell_type": "markdown",
   "id": "0508158a",
   "metadata": {
    "vscode": {
     "languageId": "plaintext"
    }
   },
   "source": [
    "## Veelgemaakte fouten\n",
    "\n",
    "- **<span style=\"color:red;\">haar</span>** (her) → **<span style=\"color:green;\">zijn</span>**  \n",
    "- **<span style=\"color:red;\">Zijn</span>** (his/its/are) → **<span style=\"color:green;\">begint zijn les</span>**  \n",
    "- **<span style=\"color:red;\">Mevrouw en meneer</span>** → **<span style=\"color:green;\">u</span>**  \n",
    "- **<span style=\"color:red;\">Ik ook ben goed</span>** → **<span style=\"color:green;\">Met mij gaat het goed.</span>**  \n",
    "- **<span style=\"color:red;\">Grotjes</span>** → **<span style=\"color:green;\">Groetjes</span>**  \n",
    "- **<span style=\"color:red;\">in de beurt</span>** → **<span style=\"color:green;\">aan de beurt</span>**\n",
    "- **<span style=\"color:red;\">Hoelang</span>** → **<span style=\"color:green;\">Hoe lang</span>**\n",
    "- **<span style=\"color:red;\">Hij hurt</span>** → **<span style=\"color:green;\">Hij huurt</span>**\n",
    "- **<span style=\"color:green\">ergens</span>** → somewhere  \n",
    "- **<span style=\"color:green\">gekocht</span>** → bought  \n",
    "- **<span style=\"color:green\">gezien</span>** → seen  \n",
    "- **<span style=\"color:green\">Hoe laat</span>** → What time  \n",
    "- **<span style=\"color:green\">Hoeven</span>** → Need/Have to  \n",
    "- **<span style=\"color:green\">Komen <span style=\"color:red\">bij</span></span>**  \n",
    "- **<span style=\"color:red\">aan<span style=\"color:green\">de hand</span></span>**: Wat is er aan de hand? (What is going on?)  \n",
    "- **<span style=\"color:green\">eindigt</span>** → ends  \n",
    "- **<span style=\"color:green\">Doe de groeten <span style=\"color:red\">aan</span> ...</span>**  "
   ]
  },
  {
   "cell_type": "markdown",
   "id": "b5387b60",
   "metadata": {
    "vscode": {
     "languageId": "plaintext"
    }
   },
   "source": [
    "---\n",
    "\n",
    "## Words order\n",
    "iets / mag / vragen / u / Mevrouw / ik\n",
    "\n",
    "- <span style=\"color:purple;\">Mevrouw, mag ik <span style=\"color:red;\">u iets</span> vragen?</span>\n",
    "\n",
    "de / de / koffie / te / niet / betalen / Wij / hoeven\n",
    "- <span style=\"color:purple;\">Wij hoeven de koffie <span style=\"color:red;\">niet</span> te betalen.</span>"
   ]
  },
  {
   "cell_type": "markdown",
   "id": "a4ebbd8e",
   "metadata": {
    "vscode": {
     "languageId": "plaintext"
    }
   },
   "source": [
    "---\n",
    "\n",
    "### Pluralis\n",
    "\n",
    "- **<span style=\"color:purple\">buurman</span>** → **<span style=\"color:lightblue\">buurma<u>nn</u>en</span>**  \n",
    "- **<span style=\"color:purple\">plan</span>** → **<span style=\"color:lightblue\">plann<u>en</u></span>**  \n",
    "- **<span style=\"color:purple\">stampot</span>** → **<span style=\"color:lightblue\">stampott<u>en</u></span>**  \n",
    "- **<span style=\"color:purple\">komkommer</span>** → **<span style=\"color:lightblue\">komkomm<u>ers</u></span>**  \n",
    "- **<span style=\"color:purple\">adres</span>** → **<span style=\"color:lightblue\">adress<u>en</u></span>**  \n",
    "- **<span style=\"color:purple\">film</span>** → **<span style=\"color:lightblue\">film<u>s</u></span>**  \n",
    "\n"
   ]
  },
  {
   "cell_type": "markdown",
   "id": "547c253f",
   "metadata": {
    "vscode": {
     "languageId": "plaintext"
    }
   },
   "source": [
    "| **het …**       | **het …**      | **het …**       |\n",
    "|:----------------|:---------------|:----------------|\n",
    "| <span style=\"color:orange\">huis</span>    | <span style=\"color:orange\">land</span>   | <span style=\"color:orange\">rondje</span>  |\n",
    "| <span style=\"color:orange\">boek</span>    | <span style=\"color:orange\">dorp</span>   | <span style=\"color:orange\">huisje</span> |\n",
    "| <span style=\"color:orange\">kind</span>    | <span style=\"color:orange\">strand</span>| <span style=\"color:orange\">kopje</span> |\n",
    "| <span style=\"color:orange\">glas</span>    | <span style=\"color:orange\">idee</span>  | <span style=\"color:orange\">meisje</span>|\n",
    "| <span style=\"color:orange\">water</span>   | <span style=\"color:orange\">probleem</span> | <span style=\"color:orange\">jaar</span>  |\n",
    "| <span style=\"color:orange\">brood</span>   | <span style=\"color:orange\">einde</span> | <span style=\"color:orange\">uur</span>   |\n",
    "| <span style=\"color:orange\">ei</span>      | <span style=\"color:orange\">leven</span>| <span style=\"color:orange\">moment</span>|\n",
    "| <span style=\"color:orange\">geld</span>    | <span style=\"color:orange\">seizoen</span> | <span style=\"color:orange\">centrum</span>|\n",
    "\n",
    "Mistakes: \n",
    "\n",
    "- **<span style=\"color:red\">de</span>** bladzijde  \n",
    "- **<span style=\"color:red\">de</span>** pagina  \n",
    "- **<span style=\"color:green\">het</span>** adres  \n",
    "- **<span style=\"color:green\">het</span>** nummer  \n",
    "- **<span style=\"color:green\">het</span>** jaar  \n",
    "- **<span style=\"color:red\">de</span>** bloemkool  \n",
    "- **<span style=\"color:red\">de</span>** persoon  \n",
    "- **<span style=\"color:red\">de</span>** komkommer  \n",
    "- **<span style=\"color:red\">de</span>** familie  \n",
    "- **<span style=\"color:green\">het</span>** apartement\n",
    "- **<span style=\"color:red\">de</span>** makelaar (real estate agent)\n",
    "- **<span style=\"color:red\">de</span>** spijkerbroek\n",
    "- **<span style=\"color:green\">het</span>** voordeel (advantage)\n",
    "- **<span style=\"color:red\">de</span>** paskamer\n",
    "- **<span style=\"color:red\">de</span>** verkoper (salesman)\n",
    "- **<span style=\"color:red\">de</span>** bon\n",
    "- **<span style=\"color:red\">de</span>** kast (closet)\n",
    "- **<span style=\"color:green\">het</span>** type\n",
    "- **<span style=\"color:red\">de</span>** woonruimte (living space)\n",
    "- **<span style=\"color:green\">het</span>** sezion\n",
    "- **<span style=\"color:green\">het</span>** gezin\n",
    "- **<span style=\"color:green\">het</span>** bureau (desk)\n",
    "- **<span style=\"color:green\">het</span>** huis / balkon\n",
    "- **<span style=\"color:green\">het</span>** pak (suit)\n",
    "- **<span style=\"color:green\">het</span>** mes (knife)\n",
    "- **<span style=\"color:green\">het</span>** bonnetje (receipt)\n",
    "- **<span style=\"color:green\">het</span>** gezin\n",
    "- **<span style=\"color:red\">de</span>** koorts\n",
    "- **<span style=\"color:green\">het</span>** licht\n",
    "\n"
   ]
  },
  {
   "cell_type": "markdown",
   "id": "039e2a1a",
   "metadata": {
    "vscode": {
     "languageId": "plaintext"
    }
   },
   "source": [
    "---\n",
    "\n",
    "## Dictate\n",
    "\n",
    "- aardig (nice): Hij vindt zijn buurman aardig.\n",
    "- <u>'s Morgens</u>(In the mornings) drink ik <u>vaak</u>(often) twee <u>koppen</u>(cups) thee met suiker.\n",
    "- De <u>meisjes</u> zijn al <u>jaren</u> heel goede <u>vriendinnen</u>.\n",
    "- B<u>oo</u>dscha<u>pp</u>en<u>lijstje</u>\n",
    "- stam<u>pp</u>ot\n",
    "- aardappels\n",
    "- gr<u>oen</u><u>teb</u><u>oe</u>r\n",
    "- een b<u>ee</u>tje\n",
    "- mijn toetje proeven (my dessert taste)\n",
    "- verkoopt (sells)\n",
    "- mosselen (singular: mossel)\n",
    "- woorden (words)\n",
    "- belangrijk (important)\n",
    "- groeten\n",
    "- allemaal\n",
    "- vanmiddag\n",
    "- Seizoen\n",
    "- eigenlijk (actually)\n",
    "- verschillende\n",
    "- verk<u>oo</u>pster\n",
    "- allerlei (various): allerlei kleuren\n",
    "- geschikt (suitable): geschikte woning\n",
    "- appartement\n",
    "- gemeubileerd\n",
    "- mogelijkheden (possibilities)\n",
    "- ervandoor\n",
    "- hartstikke\n",
    "- prachtig\n",
    "- mogelijk (possible)\n",
    "- Eet smakelijk.\n",
    "- overleggen (discuss)\n",
    "- overleg (discussion)\n",
    "- Goed<u>e</u>morgen\n",
    "- bijzonders (special)\n",
    "- gegeten\n",
    "- klachten (complaints)\n",
    "- Verder (continue): Verder heb ik geen klachten.\n",
    "- Gisteren\n",
    "- Vorig (previous): Vorige week\n",
    "- geweest (was)\n",
    "- makelaar (real estate agent)\n",
    "- geholpen\n",
    "- allergisch\n",
    "- tomaten (tomaat)\n",
    "- Mocht (if): Mocht ik u nog kunnen helpen?\n",
    "- lopen (walk)\n",
    "- loop (walk)\n",
    "- begrijp (understand)\n",
    "- bedoel (mean)\n",
    "- precies (precies)"
   ]
  }
 ],
 "metadata": {
  "language_info": {
   "name": "python"
  }
 },
 "nbformat": 4,
 "nbformat_minor": 5
}
