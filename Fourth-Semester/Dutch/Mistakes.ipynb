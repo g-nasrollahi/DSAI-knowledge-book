{
 "cells": [
  {
   "cell_type": "markdown",
   "id": "547c253f",
   "metadata": {
    "vscode": {
     "languageId": "plaintext"
    }
   },
   "source": [
    "---\n",
    "\n",
    "# Sample Exam's mistakes\n",
    "\n",
    "### Pluralis\n",
    "\n",
    "- **<span style=\"color:purple\">buurman</span>** → **<span style=\"color:lightblue\">buurma<u>nn</u>en</span>**\n",
    "\n",
    "\n",
    "\n",
    "\n",
    "### De / Het\n",
    "\n",
    "- **<span style=\"color:red\">de</span>** klant\n",
    "- **<span style=\"color:green\">het</span>** café\n",
    "- **<span style=\"color:green\">het</span>** rondje\n",
    "- **<span style=\"color:green\">het</span>** boek"
   ]
  },
  {
   "cell_type": "markdown",
   "id": "a8d5dde1",
   "metadata": {
    "vscode": {
     "languageId": "plaintext"
    }
   },
   "source": [
    "---\n",
    "\n",
    "In dutch we negate adjectives with **<span style=\"color:green\">niet</span>** instead of verb.\n",
    "\n"
   ]
  }
 ],
 "metadata": {
  "language_info": {
   "name": "python"
  }
 },
 "nbformat": 4,
 "nbformat_minor": 5
}
