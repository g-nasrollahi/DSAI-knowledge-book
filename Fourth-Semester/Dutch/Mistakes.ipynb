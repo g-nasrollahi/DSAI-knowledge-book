{
 "cells": [
  {
   "cell_type": "markdown",
   "id": "0508158a",
   "metadata": {
    "vscode": {
     "languageId": "plaintext"
    }
   },
   "source": [
    "## Veelgemaakte fouten\n",
    "\n",
    "- **<span style=\"color:red;\">Hij hebt</span>** → **<span style=\"color:green;\">Hij heeft</span>**  \n",
    "- **<span style=\"color:red;\">haar</span>** (her) → **<span style=\"color:green;\">zijn</span>**  \n",
    "- **<span style=\"color:red;\">What time is it?</span>** → **<span style=\"color:green;\">Hoe laat is het nu?</span>**  \n",
    "- **<span style=\"color:red;\">Leest goed idee</span>** → **<span style=\"color:green;\">Dat is een goed idee.</span>**  \n",
    "- **<span style=\"color:red;\">Wednesday</span>** → **<span style=\"color:green;\">woensdag</span>**  \n",
    "- **<span style=\"color:red;\">Zijn</span>** (his/its/are) → **<span style=\"color:green;\">begint zijn les</span>**  \n",
    "- **<span style=\"color:red;\">Mevrouw en meneer</span>** → **<span style=\"color:green;\">u</span>**  \n",
    "- **<span style=\"color:red;\">Ik ook ben goed</span>** → **<span style=\"color:green;\">Met mij gaat het goed.</span>**  \n",
    "- **<span style=\"color:red;\">Iranse</span>** → **<span style=\"color:green;\">Iraans</span>**  \n",
    "- **<span style=\"color:red;\">Grotjes</span>** → **<span style=\"color:green;\">Groetjes</span>**  \n",
    "- **<span style=\"color:red;\">Smakelijk</span>** → **<span style=\"color:green;\">Eet smakelijk.</span>**\n",
    "- **<span style=\"color:red;\">groote</span>** → **<span style=\"color:green;\">grote</span>**\n",
    "- **<span style=\"color:red;\">in de beurt</span>** → **<span style=\"color:green;\">aan de beurt</span>**\n",
    "- **<span style=\"color:red;\">Hij spreekt niet Engels</span>** → **<span style=\"color:green;\">Hij spreekt geen Engels.</span>**\n",
    "- **<span style=\"color:red;\">Hoelang</span>** → **<span style=\"color:green;\">Hoe lang</span>**\n",
    "- **<span style=\"color:red;\">Hij hurt</span>** → **<span style=\"color:green;\">Hij huurt</span>**\n",
    "- **<span style=\"color:red;\">"
   ]
  },
  {
   "cell_type": "markdown",
   "id": "547c253f",
   "metadata": {
    "vscode": {
     "languageId": "plaintext"
    }
   },
   "source": [
    "---\n",
    "\n",
    "# Sample Exam's mistakes\n",
    "\n",
    "- Nee, ik heb **geen** honger → Honger is noun here, so it needs **geen**.\n",
    "\n",
    "| **NL Pronoun**      | **luisteren**                            | **hebben**                                                                 | **zijn**                            |\n",
    "| :------------------ | :--------------------------------------- | :------------------------------------------------------------------------- | :---------------------------------- |\n",
    "| **ik**              | luister                                  | heb                                                                        | ben                                 |\n",
    "| **jij / je**        | luister<span style=\"color:red\">t</span>  | heb<span style=\"color:red\">t</span>                                        | ben<span style=\"color:red\">t</span> |\n",
    "| **u**               | luister<span style=\"color:red\">t</span>  | heb<span style=\"color:red\">t</span> / heef<span style=\"color:red\">t</span> | ben<span style=\"color:red\">t</span> |\n",
    "| **hij / zij / het** | luister<span style=\"color:red\">t</span>  | heef<span style=\"color:red\">t</span>                                       | is                                  |\n",
    "| **wij / we**        | luister<span style=\"color:red\">en</span> | hebb<span style=\"color:red\">en</span>                                      | zij<span style=\"color:red\">n</span> |\n",
    "| **jullie**          | luister<span style=\"color:red\">en</span> | hebb<span style=\"color:red\">en</span>                                      | zij<span style=\"color:red\">n</span> |\n",
    "| **zij / ze**        | luister<span style=\"color:red\">en</span> | hebb<span style=\"color:red\">en</span>                                      | zij<span style=\"color:red\">n</span> |\n",
    "\n",
    "\n",
    "### Pluralis\n",
    "\n",
    "- **<span style=\"color:purple\">buurman</span>** → **<span style=\"color:lightblue\">buurma<u>nn</u>en</span>**\n",
    "\n",
    "\n",
    "\n",
    "\n",
    "### De / Het\n",
    "\n",
    "- **<span style=\"color:red\">de</span>** klant\n",
    "- **<span style=\"color:green\">het</span>** café\n",
    "- **<span style=\"color:green\">het</span>** rondje\n",
    "- **<span style=\"color:green\">het</span>** boek\n",
    "- "
   ]
  },
  {
   "cell_type": "markdown",
   "id": "a8d5dde1",
   "metadata": {
    "vscode": {
     "languageId": "plaintext"
    }
   },
   "source": [
    "---\n",
    "\n",
    "In dutch we negate adjectives with **<span style=\"color:green\">niet</span>** instead of verb.\n",
    "\n",
    "# Words\n",
    "- **<span style=\"color:green\">ergens</span>** → somewhere\n",
    "- **<span style=\"color:green\">gekocht</span>** → bought\n",
    "- **<span style=\"color:green\">gezien</span>** → seen\n",
    "- **<span style=\"color:green\">Hoe laat</span>** → What time\n"
   ]
  },
  {
   "cell_type": "markdown",
   "id": "039e2a1a",
   "metadata": {
    "vscode": {
     "languageId": "plaintext"
    }
   },
   "source": [
    "---\n",
    "\n",
    "## Dictate\n",
    "\n",
    "- Hij vindt\n",
    "- b<u>uu</u>rman\n",
    "- aardig (nice): Hij vindt zijn buurman aardig.\n",
    "- Vandaag is het mooi weer.\n",
    "- vanavond\n",
    "- restaurant\n",
    "- <u>'s Morgens</u>(In the mornings) drink ik <u>vaak</u>(often) twee <u>koppen</u>(cups) thee met suiker.\n",
    "- De <u>meisjes</u> zijn al <u>jaren</u> heel goede <u>vriendinnen</u>.\n",
    "- Vriend"
   ]
  }
 ],
 "metadata": {
  "language_info": {
   "name": "python"
  }
 },
 "nbformat": 4,
 "nbformat_minor": 5
}
