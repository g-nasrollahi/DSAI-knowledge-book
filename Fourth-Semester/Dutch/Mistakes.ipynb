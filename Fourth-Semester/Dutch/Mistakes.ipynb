{
 "cells": [
  {
   "cell_type": "markdown",
   "id": "0508158a",
   "metadata": {
    "vscode": {
     "languageId": "plaintext"
    }
   },
   "source": [
    "## Veelgemaakte fouten\n",
    "\n",
    "- **<span style=\"color:red;\">haar</span>** (her) → **<span style=\"color:green;\">zijn</span>**  \n",
    "- **<span style=\"color:red;\">Zijn</span>** (his/its/are) → **<span style=\"color:green;\">begint zijn les</span>**  \n",
    "- **<span style=\"color:red;\">Mevrouw en meneer</span>** → **<span style=\"color:green;\">u</span>**  \n",
    "- **<span style=\"color:red;\">Ik ook ben goed</span>** → **<span style=\"color:green;\">Met mij gaat het goed.</span>**  \n",
    "- **<span style=\"color:red;\">Grotjes</span>** → **<span style=\"color:green;\">Groetjes</span>**  \n",
    "- **<span style=\"color:red;\">in de beurt</span>** → **<span style=\"color:green;\">aan de beurt</span>**\n",
    "- **<span style=\"color:red;\">Hoelang</span>** → **<span style=\"color:green;\">Hoe lang</span>**\n",
    "- **<span style=\"color:red;\">Hij hurt</span>** → **<span style=\"color:green;\">Hij huurt</span>**\n",
    "- **<span style=\"color:green\">ergens</span>** → somewhere  \n",
    "- **<span style=\"color:green\">gekocht</span>** → bought\n",
    "- **<span style=\"color:green\">Hoeven</span>** → Need/Have to  \n",
    "- **<span style=\"color:green\">Komen <span style=\"color:red\">bij</span></span>**  \n",
    "- **<span style=\"color:red\">aan<span style=\"color:green\">de hand</span></span>**: Wat is er aan de hand? (What is going on?)  \n",
    "- **<span style=\"color:green\">eindigt</span>** → ends  \n",
    "- **<span style=\"color:green\">Doe de groeten <span style=\"color:red\">aan</span> ...</span>**  "
   ]
  },
  {
   "cell_type": "markdown",
   "id": "547c253f",
   "metadata": {
    "vscode": {
     "languageId": "plaintext"
    }
   },
   "source": [
    "**Mistakes:**\n",
    "\n",
    "- **<span style=\"color:red\">de</span>** bladzijde  \n",
    "- **<span style=\"color:red\">de</span>** pagina  \n",
    "- **<span style=\"color:green\">het</span>** adres  \n",
    "- **<span style=\"color:green\">het</span>** nummer  \n",
    "- **<span style=\"color:green\">het</span>** jaar  \n",
    "- **<span style=\"color:red\">de</span>** bloemkool  \n",
    "- **<span style=\"color:green\">het</span>**  leven (life)\n",
    "- **<span style=\"color:red\">de</span>** persoon  \n",
    "- **<span style=\"color:green\">het</span>** water\n",
    "- **<span style=\"color:red\">de</span>** komkommer  \n",
    "- **<span style=\"color:red\">de</span>** familie  \n",
    "- **<span style=\"color:green\">het</span>** apartement  \n",
    "- **<span style=\"color:green\">het</span>** probleem\n",
    "- **<span style=\"color:red\">de</span>** makelaar (real estate agent)  \n",
    "- **<span style=\"color:red\">de</span>** spijkerbroek  \n",
    "- **<span style=\"color:green\">het</span>** voordeel (advantage)  \n",
    "- **<span style=\"color:green\">het</span>** ei\n",
    "- **<span style=\"color:red\">de</span>** paskamer  \n",
    "- **<span style=\"color:red\">de</span>** verkoper (salesman)  \n",
    "- **<span style=\"color:red\">de</span>** bon  \n",
    "- **<span style=\"color:green\">het</span>** idee\n",
    "- **<span style=\"color:green\">het</span>** brood\n",
    "- **<span style=\"color:red\">de</span>** kast (closet)  \n",
    "- **<span style=\"color:green\">het</span>** type  \n",
    "- **<span style=\"color:red\">de</span>** woonruimte (living space)  \n",
    "- **<span style=\"color:green\">het</span>** sezion  \n",
    "- **<span style=\"color:green\">het</span>** gezin  \n",
    "- **<span style=\"color:green\">het</span>** bureau (desk)  \n",
    "- **<span style=\"color:green\">het</span>** huis / balkon  \n",
    "- **<span style=\"color:green\">het</span>** uur\n",
    "- **<span style=\"color:green\">het</span>** einde (end)\n",
    "- **<span style=\"color:green\">het</span>** pak (suit)  \n",
    "- **<span style=\"color:green\">het</span>** mes (knife)  \n",
    "- **<span style=\"color:green\">het</span>** bonnetje (receipt)  \n",
    "- **<span style=\"color:green\">het</span>** gezin  \n",
    "- **<span style=\"color:red\">de</span>** koorts  \n",
    "- **<span style=\"color:green\">het</span>** licht  \n",
    "\n"
   ]
  },
  {
   "cell_type": "markdown",
   "id": "039e2a1a",
   "metadata": {
    "vscode": {
     "languageId": "plaintext"
    }
   },
   "source": [
    "---\n",
    "\n",
    "## Dictate\n",
    "\n",
    "- gr<u>oen</u><u>teb</u><u>oe</u>r\n",
    "- mijn toetje proeven (my dessert taste)\n",
    "- verkoopt (sells)\n",
    "- mosselen (singular: mossel)\n",
    "- groeten\n",
    "- Seizoen\n",
    "- eigenlijk (actually)\n",
    "- verschillende\n",
    "- verk<u>oo</u>pster\n",
    "- allerlei (various): allerlei kleuren\n",
    "- geschikt (suitable): geschikte woning\n",
    "- gemeubileerd\n",
    "- mogelijkheden (possibilities)\n",
    "- ervandoor\n",
    "- klachten (complaints)\n",
    "- Verder (continue): Verder heb ik geen klachten.\n",
    "- Gisteren\n",
    "- Vorig (previous): Vorige week\n",
    "- makelaar (real estate agent)\n",
    "- allergisch\n",
    "- Mocht (if): Mocht ik u nog kunnen helpen?"
   ]
  }
 ],
 "metadata": {
  "language_info": {
   "name": "python"
  }
 },
 "nbformat": 4,
 "nbformat_minor": 5
}
