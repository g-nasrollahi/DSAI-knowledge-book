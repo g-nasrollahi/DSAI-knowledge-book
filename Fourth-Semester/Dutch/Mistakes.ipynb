{
 "cells": [
  {
   "cell_type": "markdown",
   "id": "3a038e1f",
   "metadata": {},
   "source": [
    "## Veelgemaakte fouten\n",
    "\n",
    "- **<span style=\"color:red\">Hij hebt</span>** → **<span style=\"color:green\">Hij heeft</span>**  \n",
    "- **<span style=\"color:red\">haar</span>** (her) → **<span style=\"color:green\">zijn</span>**  \n",
    "- **<span style=\"color:red\">What time is it?</span>** → **<span style=\"color:green\">Hoe laat is het nu?</span>**  \n",
    "- **<span style=\"color:red\">Leest goed idee</span>** → **<span style=\"color:green\">Dat is een goed idee.</span>**  \n",
    "- **<span style=\"color:red\">Wednesday</span>** → **<span style=\"color:green\">woensdag</span>**  \n",
    "- **<span style=\"color:red\">apple</span>** → **<span style=\"color:green\">appel</span>**  \n",
    "- **<span style=\"color:red\">Zijn</span>** (his/its/are) → **<span style=\"color:green\">begin<u>t</u> zijn les</span>**\n",
    "- **<span style=\"color:red\">inf: nemen</span>** → **<span style=\"color:green\">Ik neem</span>**  \n",
    "- **<span style=\"color:red\">Mevrouw en meneer</span>** → **<span style=\"color:green\">u</span>**  \n",
    "- **<span style=\"color:red\">perzisch</span>** → **<span style=\"color:green\">Perzisch</span>**  \n",
    "- **<span style=\"color:red\">Ik ook ben goed</span>** → **<span style=\"color:green\">Met mij gaat het goed.</span>**  \n",
    "- **<span style=\"color:red\">Iranse</span>** → **<span style=\"color:green\">Iraans</span>**  \n",
    "- **<span style=\"color:red\">Grotjes</span>** → **<span style=\"color:green\">Groetjes</span>**  \n",
    "- **<span style=\"color:red\">Smakelijk</span>** → **<span style=\"color:green\">Eet smakelijk.</span>** "
   ]
  }
 ],
 "metadata": {
  "language_info": {
   "name": "python"
  }
 },
 "nbformat": 4,
 "nbformat_minor": 5
}
