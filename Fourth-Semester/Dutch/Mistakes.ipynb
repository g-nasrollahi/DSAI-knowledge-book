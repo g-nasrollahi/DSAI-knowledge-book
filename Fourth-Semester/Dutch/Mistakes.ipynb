{
 "cells": [
  {
   "cell_type": "markdown",
   "id": "0508158a",
   "metadata": {
    "vscode": {
     "languageId": "plaintext"
    }
   },
   "source": [
    "## Veelgemaakte fouten\n",
    "\n",
    "- **<span style=\"color:red;\">Hij hebt</span>** → **<span style=\"color:green;\">Hij heeft</span>**  \n",
    "- **<span style=\"color:red;\">haar</span>** (her) → **<span style=\"color:green;\">zijn</span>**  \n",
    "- **<span style=\"color:red;\">What time is it?</span>** → **<span style=\"color:green;\">Hoe laat is het nu?</span>**  \n",
    "- **<span style=\"color:red;\">Leest goed idee</span>** → **<span style=\"color:green;\">Dat is een goed idee.</span>**  \n",
    "- **<span style=\"color:red;\">Wednesday</span>** → **<span style=\"color:green;\">woensdag</span>**  \n",
    "- **<span style=\"color:red;\">Zijn</span>** (his/its/are) → **<span style=\"color:green;\">begint zijn les</span>**  \n",
    "- **<span style=\"color:red;\">Mevrouw en meneer</span>** → **<span style=\"color:green;\">u</span>**  \n",
    "- **<span style=\"color:red;\">Ik ook ben goed</span>** → **<span style=\"color:green;\">Met mij gaat het goed.</span>**  \n",
    "- **<span style=\"color:red;\">Iranse</span>** → **<span style=\"color:green;\">Iraans</span>**  \n",
    "- **<span style=\"color:red;\">Grotjes</span>** → **<span style=\"color:green;\">Groetjes</span>**  \n",
    "- **<span style=\"color:red;\">Smakelijk</span>** → **<span style=\"color:green;\">Eet smakelijk.</span>**\n",
    "- **<span style=\"color:red;\">groote</span>** → **<span style=\"color:green;\">grote</span>**\n",
    "- **<span style=\"color:red;\">in de beurt</span>** → **<span style=\"color:green;\">aan de beurt</span>**\n",
    "- **<span style=\"color:red;\">Hij spreekt niet Engels</span>** → **<span style=\"color:green;\">Hij spreekt geen Engels.</span>**\n",
    "- **<span style=\"color:red;\">Hoelang</span>** → **<span style=\"color:green;\">Hoe lang</span>**\n",
    "- **<span style=\"color:red;\">Hij hurt</span>** → **<span style=\"color:green;\">Hij huurt</span>**\n",
    "- **<span style=\"color:red;\">"
   ]
  },
  {
   "cell_type": "markdown",
   "id": "b5387b60",
   "metadata": {
    "vscode": {
     "languageId": "plaintext"
    }
   },
   "source": [
    "---\n",
    "\n",
    "## Words order\n",
    "\n",
    "- <span style=\"color:purple;\">Mevrouw, mag ik <span style=\"color:red;\">u iets</span> vragen?</span>\n",
    "- <span style=\"color:purple;\">Wij hoeven de koffie <span style=\"color:red;\">niet</span> te betalen.</span>\n",
    "- <span style=\"color:purple;\">De studenten willen <span style=\"color:red;\">in de pauze</span> een tosti eten.</span>"
   ]
  },
  {
   "cell_type": "markdown",
   "id": "547c253f",
   "metadata": {
    "vscode": {
     "languageId": "plaintext"
    }
   },
   "source": [
    "---\n",
    "\n",
    "# Sample Exam's mistakes\n",
    "\n",
    "- Nee, ik heb **geen** honger → Honger is noun here, so it needs **geen**.\n",
    "\n",
    "| **NL Pronoun**      | **luisteren**                            | **hebben**                                                                 | **zijn**                            |\n",
    "| :------------------ | :--------------------------------------- | :------------------------------------------------------------------------- | :---------------------------------- |\n",
    "| **ik**              | luister                                  | heb                                                                        | ben                                 |\n",
    "| **jij / je**        | luister<span style=\"color:red\">t</span>  | heb<span style=\"color:red\">t</span>                                        | ben<span style=\"color:red\">t</span> |\n",
    "| **u**               | luister<span style=\"color:red\">t</span>  | heb<span style=\"color:red\">t</span> / heef<span style=\"color:red\">t</span> | ben<span style=\"color:red\">t</span> |\n",
    "| **hij / zij / het** | luister<span style=\"color:red\">t</span>  | heef<span style=\"color:red\">t</span>                                       | is                                  |\n",
    "| **wij / we**        | luister<span style=\"color:red\">en</span> | hebb<span style=\"color:red\">en</span>                                      | zij<span style=\"color:red\">n</span> |\n",
    "| **jullie**          | luister<span style=\"color:red\">en</span> | hebb<span style=\"color:red\">en</span>                                      | zij<span style=\"color:red\">n</span> |\n",
    "| **zij / ze**        | luister<span style=\"color:red\">en</span> | hebb<span style=\"color:red\">en</span>                                      | zij<span style=\"color:red\">n</span> |\n",
    "\n",
    "\n",
    "### Pluralis\n",
    "\n",
    "- **<span style=\"color:purple\">buurman</span>** → **<span style=\"color:lightblue\">buurma<u>nn</u>en</span>**  \n",
    "- **<span style=\"color:purple\">plan</span>** → **<span style=\"color:lightblue\">plann<u>en</u></span>**  \n",
    "- **<span style=\"color:purple\">stampot</span>** → **<span style=\"color:lightblue\">stampott<u>en</u></span>**  \n",
    "- **<span style=\"color:purple\">komkommer</span>** → **<span style=\"color:lightblue\">komkomm<u>ers</u></span>**  \n",
    "- **<span style=\"color:purple\">adres</span>** → **<span style=\"color:lightblue\">adress<u>en</u></span>**  \n",
    "- **<span style=\"color:purple\">film</span>** → **<span style=\"color:lightblue\">film<u>s</u></span>**  \n",
    "- **<span style=\"color:purple\">plan</plan</span>** → **<span style=\"color:lightblue\">pla<u>nn</u>en</span>**\n",
    "- **<span style=\"color:purple\">huisarts</span>** → **<span style=\"color:lightblue\">huisarts<u>en</u></span>**  \n",
    "\n",
    "\n",
    "\n",
    "### De / Het\n",
    "\n",
    "<span style=\"color:blue\">**Het**</span> words are mostly:  \n",
    "- **<span style=\"color:green\">languages</span>**, **<span style=\"color:green\">countries</span>**, **<span style=\"color:green\">places</span>**, **<span style=\"color:green\">sports</span>**  \n",
    "- Or end with **<span style=\"color:purple\">-je</span>**, **<span style=\"color:purple\">-ment</span>**  \n",
    "- Or begin with **<span style=\"color:orange\">be-</span>**, **<span style=\"color:orange\">ge-</span>**, **<span style=\"color:orange\">ver-</span>**, **<span style=\"color:orange\">ont-</span>**  \n",
    "\n",
    "Mistakes: \n",
    "\n",
    "- **<span style=\"color:red\">de</span>** klant\n",
    "- **<span style=\"color:green\">het</span>** café\n",
    "- **<span style=\"color:green\">het</span>** rondje\n",
    "- **<span style=\"color:green\">het</span>** boek\n",
    "- **<span style=\"color:red\">de</span>** bladzijde  \n",
    "- **<span style=\"color:red\">de</span>** pagina  \n",
    "- **<span style=\"color:green\">het</span>** adres  \n",
    "- **<span style=\"color:green\">het</span>** nummer  \n",
    "- **<span style=\"color:green\">het</span>** jaar  \n",
    "- **<span style=\"color:red\">de</span>** postcode  \n",
    "- **<span style=\"color:red\">de</span>** cd  \n",
    "- **<span style=\"color:red\">de</span>** rekening  \n",
    "- **<span style=\"color:red\">de</span>** bloemkool  \n",
    "- **<span style=\"color:red\">de</span>** week  \n",
    "- **<span style=\"color:red\">de</span>** persoon  \n",
    "- **<span style=\"color:red\">de</span>** komkommer  \n",
    "- **<span style=\"color:red\">de</span>** familie  \n",
    "- **<span style=\"color:green\">het</span>** apartement\n",
    "- **<span style=\"color:red\">de</span>** makelaar (real estate agent)\n",
    "- **<span style=\"color:red\">de</span>** buurt\n",
    "- **<span style=\"color:red\">de</span>** spijkerbroek\n",
    "- **<span style=\"color:green\">het</span>** voordeel (advantage)\n",
    "- **<span style=\"color:red\">de</span>** trui (sweater)\n",
    "- **<span style=\"color:red\">de</span>** paskamer\n",
    "- **<span style=\"color:red\">de</span>** verkoper (salesman)\n",
    "- **<span style=\"color:red\">de</span>** bon\n",
    "- **<span style=\"color:red\">de</span>** kast (closet)\n",
    "- **<span style=\"color:green\">het</span>** type\n",
    "- **<span style=\"color:red\">de</span>** woonruimte (living space)\n",
    "- **<span style=\"color:green\">het</span>** kopje\n",
    "- **<span style=\"color:green\">het</span>** sezion\n",
    "- **<span style=\"color:green\">het</span>** raam\n",
    "- **<span style=\"color:green\">het</span>** gezin\n",
    "- **<span style=\"color:green\">het</span>** bureau (desk)\n",
    "- **<span style=\"color:green\">het</span>** huis / balkon\n",
    "- **<span style=\"color:green\">het</span>** pak (suit)\n",
    "- **<span style=\"color:green\">het</span>** mes (knife)\n",
    "- **<span style=\"color:green\">het</span>** bonnetje (receipt)\n",
    "- **<span style=\"color:green\">het</span>** gezin\n",
    "- **<span style=\"color:green\">het</span>** kind\n",
    "- **<span style=\"color:red\">de</span>** plaats\n",
    "- **<span style=\"color:red\">de</span>** koortd\n",
    "- **<span style=\"color:green\">het</span>** licht\n"
   ]
  },
  {
   "cell_type": "markdown",
   "id": "a8d5dde1",
   "metadata": {
    "vscode": {
     "languageId": "plaintext"
    }
   },
   "source": [
    "---\n",
    "\n",
    "In dutch we negate adjectives with **<span style=\"color:green\">niet</span>** instead of verb.\n",
    "\n",
    "# Words\n",
    "- **<span style=\"color:green\">ergens</span>** → somewhere\n",
    "- **<span style=\"color:green\">gekocht</span>** → bought\n",
    "- **<span style=\"color:green\">gezien</span>** → seen\n",
    "- **<span style=\"color:green\">Hoe laat</span>** → What time\n",
    "- **<span style=\"color:green\">Hoeven</span>** → Need/Have to\n",
    "- **<span style=\"color:green\">Komen <span style=\"color:red\">bij</span></span>**\n",
    "- **<span style=\"color:red\">aan<span style=\"color:green\">de hand</span></span>**: Wat is er aan de hand? (What is going on?)\n",
    "- **<span style=\"color:green\">eindigt</span>** → ends\n",
    "- **<span style=\"color:green\">Doe de groeten <span style=\"color:red\">aan</span> ...</span>**\n"
   ]
  },
  {
   "cell_type": "markdown",
   "id": "039e2a1a",
   "metadata": {
    "vscode": {
     "languageId": "plaintext"
    }
   },
   "source": [
    "---\n",
    "\n",
    "## Dictate\n",
    "\n",
    "- Hij vindt\n",
    "- b<u>uu</u>rman\n",
    "- aardig (nice): Hij vindt zijn buurman aardig.\n",
    "- Vandaag is het mooi weer.\n",
    "- vanavond\n",
    "- restaurant\n",
    "- <u>'s Morgens</u>(In the mornings) drink ik <u>vaak</u>(often) twee <u>koppen</u>(cups) thee met suiker.\n",
    "- De <u>meisjes</u> zijn al <u>jaren</u> heel goede <u>vriendinnen</u>.\n",
    "- Vriend\n",
    "- Wanneer\n",
    "- B<u>oo</u>dscha<u>pp</u>en<u>lijstje</u>\n",
    "- stam<u>pp</u>ot\n",
    "- aardappels\n",
    "- twee\n",
    "- gr<u>oen</u><u>teb</u><u>oe</u>r\n",
    "- een b<u>ee</u>tje\n",
    "- mijn toetje proeven (my dessert taste)\n",
    "- verkoopt (sells)\n",
    "- mosselen (singular: mossel)\n",
    "- woorden (words)\n",
    "- belangrijk (important)\n",
    "- komen\n",
    "- groeten\n",
    "- allemaal\n",
    "- vanmiddag\n",
    "- Seizoen\n",
    "- eigenlijk (actually)\n",
    "- augustus\n",
    "- Iedereen\n",
    "- verschillende\n",
    "- verk<u>oo</u>pster\n",
    "- allerlei (various): allerlei kleuren\n",
    "- geschikt (suitable): geschikte woning\n",
    "- appartement\n",
    "- gemeubileerd\n",
    "- mogelijkheden (possibilities)\n",
    "- mogelijk (possible)\n",
    "- overleggen (discuss)\n",
    "- overleg (discussion)\n",
    "- Goed<u>e</u>morgen\n",
    "- bijzonders (special)\n",
    "- gegeten\n",
    "- klachten (complaints)\n",
    "- Verder (continue): Verder heb ik geen klachten.\n",
    "- Gisteren\n",
    "- Vorig (previous): Vorige week\n",
    "- geweest (was)\n",
    "- makelaar (real estate agent)\n",
    "- geholpen\n",
    "- allergisch\n",
    "- tomaten\n",
    "- Mocht (if): Mocht ik u nog kunnen helpen?\n",
    "- lopen (walk)\n",
    "- loop (walk)\n",
    "- begrijp (understand)\n",
    "- bedoel (mean)\n",
    "- precies (precies)"
   ]
  }
 ],
 "metadata": {
  "language_info": {
   "name": "python"
  }
 },
 "nbformat": 4,
 "nbformat_minor": 5
}
