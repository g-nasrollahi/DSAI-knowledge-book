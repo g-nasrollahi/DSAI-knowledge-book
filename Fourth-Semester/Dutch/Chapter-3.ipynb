{
 "cells": [
  {
   "cell_type": "markdown",
   "id": "686b6f7b",
   "metadata": {},
   "source": [
    "## Modal Verbs\n",
    "\n",
    "- **<span style=\"color:blue\">kunnen</span>** (can/be able to) + infinitive  \n",
    "- **<span style=\"color:green\">mogen</span>** (may/be allowed to) + infinitive  \n",
    "- **<span style=\"color:orange\">willen</span>** (want to) + infinitive  \n",
    "- **<span style=\"color:red\">zullen</span>** (shall/will) + infinitive  \n",
    "- **<span style=\"color:purple\">gaan</span>** (going to) + infinitive  \n",
    "\n",
    "**Examples**  \n",
    "- <span style=\"color:teal\">Wat gaan we vandaag doen?</span>  \n",
    "- <span style=\"color:teal\">Wat willen jullie drinken?</span>  \n",
    "- <span style=\"color:teal\">Mag ik bestellen?</span>  \n",
    "\n",
    "---\n",
    "\n",
    "## De / Het Articles\n",
    "\n",
    "- **<span style=\"color:blue\">het</span>** (~20%): words ending in *-je*, two-syllable words starting **be-**, **ge-**, **ver-**  \n",
    "- **<span style=\"color:green\">de</span>** (~80%): plurals, people, words ending **-ing**, etc.  \n",
    "\n",
    "### Common **het** Words\n",
    "\n",
    "| **het …**       | **het …**      | **het …**       |\n",
    "|:----------------|:---------------|:----------------|\n",
    "| <span style=\"color:orange\">huis</span>    | <span style=\"color:orange\">land</span>   | <span style=\"color:orange\">rondje</span>  |\n",
    "| <span style=\"color:orange\">boek</span>    | <span style=\"color:orange\">dorp</span>   | <span style=\"color:orange\">huisje</span> |\n",
    "| <span style=\"color:orange\">kind</span>    | <span style=\"color:orange\">strand</span>| <span style=\"color:orange\">kopje</span> |\n",
    "| <span style=\"color:orange\">glas</span>    | <span style=\"color:orange\">idee</span>  | <span style=\"color:orange\">meisje</span>|\n",
    "| <span style=\"color:orange\">water</span>   | <span style=\"color:orange\">probleem</span> | <span style=\"color:orange\">jaar</span>  |\n",
    "| <span style=\"color:orange\">brood</span>   | <span style=\"color:orange\">einde</span> | <span style=\"color:orange\">uur</span>   |\n",
    "| <span style=\"color:orange\">ei</span>      | <span style=\"color:orange\">leven</span>| <span style=\"color:orange\">moment</span>|\n",
    "| <span style=\"color:orange\">geld</span>    | <span style=\"color:orange\">seizoen</span> | <span style=\"color:orange\">centrum</span>|\n",
    "---\n",
    "\n",
    "## Rangtelwoorden (Irregular Ordinal Numbers)\n",
    "- 1e (eerste)\n",
    "- 2e (tweede)\n",
    "- 3e (derde)\n",
    "- 4e (vierde)\n",
    "- 8e (achtste)\n",
    "- 20e (twintigste)\n",
    "- 29e (negenentwintigste)\n",
    "- 100e (honderdste)"
   ]
  },
  {
   "cell_type": "markdown",
   "id": "c91ed3c7",
   "metadata": {
    "vscode": {
     "languageId": "plaintext"
    }
   },
   "source": [
    "---\n",
    "\n",
    "## Words\n",
    "\n",
    "| **Word**         | **Translation**  | **Example**               |\n",
    "|:-----------------|:-----------------|:--------------------------|\n",
    "| **Nou** | Well, then         | <span style=\"color:purple\">Nou, dat is goed.</span> |\n",
    "| **Het poosje** | Short while | <span style=\"color:purple\">We wachten een poosje.</span> |\n",
    "| **Daarom** | That's why (Therefor) | <span style=\"color:purple\">Daarom ben ik hier.</span> |\n",
    "\n",
    "\n"
   ]
  }
 ],
 "metadata": {
  "language_info": {
   "name": "python"
  }
 },
 "nbformat": 4,
 "nbformat_minor": 5
}
