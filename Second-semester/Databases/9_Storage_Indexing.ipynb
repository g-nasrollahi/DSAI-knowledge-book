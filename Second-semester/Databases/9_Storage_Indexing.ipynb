{
 "cells": [
  {
   "cell_type": "markdown",
   "metadata": {},
   "source": [
    "# Storage and Indexing"
   ]
  },
  {
   "cell_type": "markdown",
   "metadata": {
    "vscode": {
     "languageId": "plaintext"
    }
   },
   "source": [
    "### File Organizations:\n",
    "\n",
    "- Heap (random order) files: Suitable when typical access is a file scan retrieving all records.\n",
    "- Sorted Files: Best if records must be retrieved in some order, or only a `range' of records is needed.\n",
    "- Indexes: Data structures to organize records via trees or hashing.\n",
    "    - B+ trees\n",
    "    - Hash index\n",
    "    \n"
   ]
  },
  {
   "cell_type": "markdown",
   "metadata": {
    "vscode": {
     "languageId": "plaintext"
    }
   },
   "source": [
    "### Search Key and K*:\n",
    "\n",
    "**Search Key** can be specific key for quering your users like username in users database but totally can be different from primery **key** like Indexes\n",
    "\n",
    " <b> k* </b> denotes the set of data entries associated with the key value \"k\""
   ]
  },
  {
   "cell_type": "markdown",
   "metadata": {
    "vscode": {
     "languageId": "plaintext"
    }
   },
   "source": [
    "### Alternatives for organizing and accessing data:\n",
    "- Alternative 1: Here, each data record (like a row in a table) is directly used as an index. It's good when data records are large, but only one index can use this method for each collection of records to avoid duplication and potential inconsistency.\n",
    "    - For example, if you're looking for a specific recipe in a cookbook, you'd flip through the pages until you find it.\n",
    "\n",
    "- Alternative 2: Data entries are smaller than records. This is better than Alternative 1 when records are large, especially if search keys are small. The portion of the index used for searching is smaller compared to Alternative 1.\n",
    "    - For instance, if you're looking for all the recipes that use chicken, you'd just check the index rather than searching through every page.\n",
    "\n",
    "- Alternative 3: Similar to Alternative 2 but even more compact. However, it leads to variable-sized data entries, even if search keys are fixed length.\n",
    "    - If you're looking for a quick and easy chicken recipe, you'd still check the index, but you might find that each entry varies in length depending on the extra details provided."
   ]
  },
  {
   "cell_type": "markdown",
   "metadata": {
    "vscode": {
     "languageId": "plaintext"
    }
   },
   "source": [
    "## Index Classification (Clustered vs. unclustered)\n",
    "\n",
    "Clustered index means the index is organized in a way that closely matches the order of the actual data in the database. This can speed up data retrieval because it aligns with how the data is physically stored. (Alternative 1 implies clustered)\n",
    "\n",
    "Suppose that Alternative (2) is used for data entries,\n",
    "and that the data records are stored in a Heap file.\n",
    "To build clustered index, first sort the Heap file\n",
    "\n",
    "![Image 6](../../Files/second-semester/db/6.jpg)"
   ]
  },
  {
   "cell_type": "markdown",
   "metadata": {
    "vscode": {
     "languageId": "plaintext"
    }
   },
   "source": [
    "```sql\n",
    "CREATE INDEX index_name\n",
    "ON table_name (column1, column2, ...);\n",
    "```\n",
    "also you can mentino to be clustered or not and also typeby:\n",
    "```sql\n",
    "CREATE CLUSTERED INDEX index_name\n",
    "ON table_name WITH STRUCTURE = BTREE KEY = (column1, column2)\n",
    "```\n",
    "\n"
   ]
  },
  {
   "cell_type": "markdown",
   "metadata": {
    "vscode": {
     "languageId": "plaintext"
    }
   },
   "source": [
    "### B+ Tree Indexes:\n",
    "\n",
    "Balanced search tree where leafes are the last level in tree were is actual data and non-leaf pages make it easy to reach records. Also each record is connected to the other for increasing speed because of double linked list structure.\n",
    "\n",
    "![Image 7](../../Files/second-semester/db/7.jpg)"
   ]
  },
  {
   "cell_type": "markdown",
   "metadata": {
    "vscode": {
     "languageId": "plaintext"
    }
   },
   "source": [
    "#### B+ trees vs. B trees\n",
    "\n",
    "B-tree is a tree with similar structure to B+ tree,\n",
    "- but the pages might be filled\n",
    "- the doubly-linked list is not present\n",
    "- The elements of the leaves can be the full data entry\n",
    "\n",
    "used in Sqlite3"
   ]
  },
  {
   "cell_type": "markdown",
   "metadata": {
    "vscode": {
     "languageId": "plaintext"
    }
   },
   "source": [
    "## Hash-Based Indexes\n",
    "\n",
    "**Index is a collection of buckets**\n",
    "- Bucket: Container holding related data share similar or same values\n",
    "- Page : Unit of data storage in a database like a block of memory where records or data are stored\n",
    "\n",
    "Unclustered Hash Index\n",
    "\n",
    "![Image 8](../../Files/second-semester/db/8.jpg)\n",
    "\n",
    "Clustered Hash index, alternative 1\n",
    "\n",
    "![Image 9](../../Files/second-semester/db/9.jpg)"
   ]
  },
  {
   "cell_type": "markdown",
   "metadata": {},
   "source": [
    "## Compare models\n",
    "\n",
    "Hash Indexes: are highly efficient for matching exact values, but not ranges or partial matches.\n",
    "\n",
    "B+ Tree Index: Can also handle equality searches, but it's better suited for range queries.  Ideal for handling composite search keys like (key1, key2).\n"
   ]
  },
  {
   "cell_type": "markdown",
   "metadata": {
    "vscode": {
     "languageId": "plaintext"
    }
   },
   "source": [
    "## Cost Model for Our Analysis\n",
    "\n",
    "In our analysis, we consider the following variables:\n",
    "\n",
    "- B: The number of data pages\n",
    "- R: Number of records per page\n",
    "- D: (Average) time to read or write a disk page\n",
    "- H: Time to evaluate the hash function\n",
    "- rid size/record size: 0.1 (ratio of the size of the record identifier to the size of the record)\n",
    "- Page fill for tree leaves: 2/3 = 0.67 (percentage of page filled with data in tree leaves)\n",
    "- Page fill for hash buckets: 0.8 (percentage of page filled with data in hash buckets)\n",
    "\n",
    "These variables are important for evaluating the performance and cost of different storage and indexing techniques.\n"
   ]
  },
  {
   "cell_type": "markdown",
   "metadata": {
    "vscode": {
     "languageId": "plaintext"
    }
   },
   "source": [
    "## Comparing File Organizations\n",
    "\n",
    "There are several file organizations that can be used in databases. Let's compare some of them:\n",
    "\n",
    "- Heap files (random order; insert at the end of the file)\n",
    "- Sorted files, sorted on <age, sal>\n",
    "- Clustered B+ tree file, search key <age, sal>\n",
    "- Heap file with unclustered B+ tree index on search key <age, sal>\n",
    "- Heap file with unclustered hash index on search key <age, sal>\n",
    "\n",
    "### Operations to Compare\n",
    "\n",
    "To evaluate the performance of these file organizations, we can consider the following operations:\n",
    "\n",
    "1. Scan: Fetch all records from disk\n",
    "2. Equality search\n",
    "3. Range selection\n",
    "4. Insert a record\n",
    "5. Delete a record\n",
    "\n",
    "Cost of Operations\n",
    "\n",
    "The cost of these operations can vary depending on the file organization used. Here's an illustration of the cost comparison:\n",
    "\n",
    "![Image 10](../../Files/second-semester/db/10.jpg)\n",
    "*BD: A unit of measure overall size (Pages x Avg time R/W)"
   ]
  },
  {
   "cell_type": "markdown",
   "metadata": {
    "vscode": {
     "languageId": "plaintext"
    }
   },
   "source": [
    "### Summary Cost Analysis\n",
    "\n",
    "**Heap Files:**\n",
    "- Fast insert\n",
    "- Low extra storage\n",
    "- Slow search and scan\n",
    "- Slow delete\n",
    "\n",
    "**Sorted Files:**\n",
    "- Fast search\n",
    "- Low extra storage\n",
    "- Expensive insert and delete\n",
    "\n",
    "**B+ Tree:**\n",
    "- Very fast equality search and range selection\n",
    "- Fast insert and delete\n",
    "- Memory overhead (approximately 1.5)\n",
    "- Supports composite keys\n",
    "\n",
    "**Hash Index:**\n",
    "- Very fast equality search, insert, and delete\n",
    "- Slow range selection\n",
    "- Memory overhead and potential scalability issues (if the database unexpectedly grows)\n"
   ]
  }
 ],
 "metadata": {
  "language_info": {
   "name": "python"
  }
 },
 "nbformat": 4,
 "nbformat_minor": 2
}
